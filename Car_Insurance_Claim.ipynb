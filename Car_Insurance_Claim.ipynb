{
 "cells": [
  {
   "cell_type": "markdown",
   "id": "76a2f6a2",
   "metadata": {},
   "source": [
    "## Project Title :  Auto Insurance Risk Assessment"
   ]
  },
  {
   "cell_type": "markdown",
   "id": "bd81983f",
   "metadata": {},
   "source": [
    "## Objectives:\n",
    " * Identify key factors that influence claim rates\n",
    "* Determine which demographic groups have highest/lowest risk\n",
    "* Assess impact of driving history on claims\n",
    "* Evaluate role of income, credit score in predicting claims\n",
    "* Develop risk model to predict likelihood of claim"
   ]
  },
  {
   "cell_type": "markdown",
   "id": "68cdfd6f",
   "metadata": {},
   "source": [
    "# 1. Importing Libraries"
   ]
  },
  {
   "cell_type": "code",
   "execution_count": 1,
   "id": "a2ae2403",
   "metadata": {},
   "outputs": [],
   "source": [
    "# Import the required libraries\n",
    "import pandas as pd\n",
    "import numpy as np \n",
    "import seaborn as sns\n",
    "import matplotlib.pyplot as plt\n",
    "import plotly.express as px\n",
    "import plotly.io as pio\n",
    "import warnings as wr\n",
    "wr.filterwarnings('ignore')"
   ]
  },
  {
   "cell_type": "code",
   "execution_count": 2,
   "id": "e5ff6c74",
   "metadata": {},
   "outputs": [
    {
     "data": {
      "text/html": [
       "<div>\n",
       "<style scoped>\n",
       "    .dataframe tbody tr th:only-of-type {\n",
       "        vertical-align: middle;\n",
       "    }\n",
       "\n",
       "    .dataframe tbody tr th {\n",
       "        vertical-align: top;\n",
       "    }\n",
       "\n",
       "    .dataframe thead th {\n",
       "        text-align: right;\n",
       "    }\n",
       "</style>\n",
       "<table border=\"1\" class=\"dataframe\">\n",
       "  <thead>\n",
       "    <tr style=\"text-align: right;\">\n",
       "      <th></th>\n",
       "      <th>ID</th>\n",
       "      <th>AGE</th>\n",
       "      <th>GENDER</th>\n",
       "      <th>RACE</th>\n",
       "      <th>DRIVING_EXPERIENCE</th>\n",
       "      <th>EDUCATION</th>\n",
       "      <th>INCOME</th>\n",
       "      <th>CREDIT_SCORE</th>\n",
       "      <th>VEHICLE_OWNERSHIP</th>\n",
       "      <th>VEHICLE_YEAR</th>\n",
       "      <th>MARRIED</th>\n",
       "      <th>CHILDREN</th>\n",
       "      <th>POSTAL_CODE</th>\n",
       "      <th>ANNUAL_MILEAGE</th>\n",
       "      <th>VEHICLE_TYPE</th>\n",
       "      <th>SPEEDING_VIOLATIONS</th>\n",
       "      <th>DUIS</th>\n",
       "      <th>PAST_ACCIDENTS</th>\n",
       "      <th>OUTCOME</th>\n",
       "    </tr>\n",
       "  </thead>\n",
       "  <tbody>\n",
       "    <tr>\n",
       "      <th>0</th>\n",
       "      <td>569520</td>\n",
       "      <td>65+</td>\n",
       "      <td>female</td>\n",
       "      <td>majority</td>\n",
       "      <td>0-9y</td>\n",
       "      <td>high school</td>\n",
       "      <td>upper class</td>\n",
       "      <td>0.629027</td>\n",
       "      <td>1.0</td>\n",
       "      <td>after 2015</td>\n",
       "      <td>0.0</td>\n",
       "      <td>1.0</td>\n",
       "      <td>10238</td>\n",
       "      <td>12000.0</td>\n",
       "      <td>sedan</td>\n",
       "      <td>0</td>\n",
       "      <td>0</td>\n",
       "      <td>0</td>\n",
       "      <td>0.0</td>\n",
       "    </tr>\n",
       "    <tr>\n",
       "      <th>1</th>\n",
       "      <td>750365</td>\n",
       "      <td>16-25</td>\n",
       "      <td>male</td>\n",
       "      <td>majority</td>\n",
       "      <td>0-9y</td>\n",
       "      <td>none</td>\n",
       "      <td>poverty</td>\n",
       "      <td>0.357757</td>\n",
       "      <td>0.0</td>\n",
       "      <td>before 2015</td>\n",
       "      <td>0.0</td>\n",
       "      <td>0.0</td>\n",
       "      <td>10238</td>\n",
       "      <td>16000.0</td>\n",
       "      <td>sedan</td>\n",
       "      <td>0</td>\n",
       "      <td>0</td>\n",
       "      <td>0</td>\n",
       "      <td>1.0</td>\n",
       "    </tr>\n",
       "    <tr>\n",
       "      <th>2</th>\n",
       "      <td>199901</td>\n",
       "      <td>16-25</td>\n",
       "      <td>female</td>\n",
       "      <td>majority</td>\n",
       "      <td>0-9y</td>\n",
       "      <td>high school</td>\n",
       "      <td>working class</td>\n",
       "      <td>0.493146</td>\n",
       "      <td>1.0</td>\n",
       "      <td>before 2015</td>\n",
       "      <td>0.0</td>\n",
       "      <td>0.0</td>\n",
       "      <td>10238</td>\n",
       "      <td>11000.0</td>\n",
       "      <td>sedan</td>\n",
       "      <td>0</td>\n",
       "      <td>0</td>\n",
       "      <td>0</td>\n",
       "      <td>0.0</td>\n",
       "    </tr>\n",
       "    <tr>\n",
       "      <th>3</th>\n",
       "      <td>478866</td>\n",
       "      <td>16-25</td>\n",
       "      <td>male</td>\n",
       "      <td>majority</td>\n",
       "      <td>0-9y</td>\n",
       "      <td>university</td>\n",
       "      <td>working class</td>\n",
       "      <td>0.206013</td>\n",
       "      <td>1.0</td>\n",
       "      <td>before 2015</td>\n",
       "      <td>0.0</td>\n",
       "      <td>1.0</td>\n",
       "      <td>32765</td>\n",
       "      <td>11000.0</td>\n",
       "      <td>sedan</td>\n",
       "      <td>0</td>\n",
       "      <td>0</td>\n",
       "      <td>0</td>\n",
       "      <td>0.0</td>\n",
       "    </tr>\n",
       "    <tr>\n",
       "      <th>4</th>\n",
       "      <td>731664</td>\n",
       "      <td>26-39</td>\n",
       "      <td>male</td>\n",
       "      <td>majority</td>\n",
       "      <td>10-19y</td>\n",
       "      <td>none</td>\n",
       "      <td>working class</td>\n",
       "      <td>0.388366</td>\n",
       "      <td>1.0</td>\n",
       "      <td>before 2015</td>\n",
       "      <td>0.0</td>\n",
       "      <td>0.0</td>\n",
       "      <td>32765</td>\n",
       "      <td>12000.0</td>\n",
       "      <td>sedan</td>\n",
       "      <td>2</td>\n",
       "      <td>0</td>\n",
       "      <td>1</td>\n",
       "      <td>1.0</td>\n",
       "    </tr>\n",
       "  </tbody>\n",
       "</table>\n",
       "</div>"
      ],
      "text/plain": [
       "       ID    AGE  GENDER      RACE DRIVING_EXPERIENCE    EDUCATION  \\\n",
       "0  569520    65+  female  majority               0-9y  high school   \n",
       "1  750365  16-25    male  majority               0-9y         none   \n",
       "2  199901  16-25  female  majority               0-9y  high school   \n",
       "3  478866  16-25    male  majority               0-9y   university   \n",
       "4  731664  26-39    male  majority             10-19y         none   \n",
       "\n",
       "          INCOME  CREDIT_SCORE  VEHICLE_OWNERSHIP VEHICLE_YEAR  MARRIED  \\\n",
       "0    upper class      0.629027                1.0   after 2015      0.0   \n",
       "1        poverty      0.357757                0.0  before 2015      0.0   \n",
       "2  working class      0.493146                1.0  before 2015      0.0   \n",
       "3  working class      0.206013                1.0  before 2015      0.0   \n",
       "4  working class      0.388366                1.0  before 2015      0.0   \n",
       "\n",
       "   CHILDREN  POSTAL_CODE  ANNUAL_MILEAGE VEHICLE_TYPE  SPEEDING_VIOLATIONS  \\\n",
       "0       1.0        10238         12000.0        sedan                    0   \n",
       "1       0.0        10238         16000.0        sedan                    0   \n",
       "2       0.0        10238         11000.0        sedan                    0   \n",
       "3       1.0        32765         11000.0        sedan                    0   \n",
       "4       0.0        32765         12000.0        sedan                    2   \n",
       "\n",
       "   DUIS  PAST_ACCIDENTS  OUTCOME  \n",
       "0     0               0      0.0  \n",
       "1     0               0      1.0  \n",
       "2     0               0      0.0  \n",
       "3     0               0      0.0  \n",
       "4     0               1      1.0  "
      ]
     },
     "execution_count": 2,
     "metadata": {},
     "output_type": "execute_result"
    }
   ],
   "source": [
    "# Data loading\n",
    "data = pd.read_csv(\"C:/Users/lohithlikith/Documents/Datasets/Car Insurance/Car_Insurance_Claim.csv\")\n",
    "data.head()"
   ]
  },
  {
   "cell_type": "markdown",
   "id": "21d08ca1",
   "metadata": {},
   "source": [
    "# 2. Data loading and overview"
   ]
  },
  {
   "cell_type": "code",
   "execution_count": 3,
   "id": "996f0be2",
   "metadata": {},
   "outputs": [],
   "source": [
    "### Understanding the data"
   ]
  },
  {
   "cell_type": "markdown",
   "id": "c94659aa",
   "metadata": {},
   "source": [
    "# Information about dataset\n"
   ]
  },
  {
   "cell_type": "markdown",
   "id": "a1f49d29",
   "metadata": {},
   "source": [
    "Categorical Variables:\n",
    "\n",
    "ID: Unique identifier for each entry in the dataset.\n",
    "\n",
    "AGE: Age of the individual, categorized into different age groups (16-25, 26-39, 40-64, 65+).\n",
    "\n",
    "GENDER: Gender of the individual (male, female).\n",
    "\n",
    "RACE: Race of the individual (majority).\n",
    "\n",
    "DRIVING_EXPERIENCE: Driving experience of the individual, categorized into different ranges (0-9 years, 10-19 years, 30 years+).\n",
    "\n",
    "EDUCATION: Educational background of the individual (high school, university).\n",
    "\n",
    "INCOME: Income level of the individual, categorized into different classes (poverty, working class, middle class, upper class).\n",
    "\n",
    "VEHICLE_OWNERSHIP: Indicates whether the individual owns a vehicle (0 - No, 1 - Yes).\n",
    "\n",
    "VEHICLE_YEAR: Year of the vehicle (before 2015, after 2015).\n",
    "\n",
    "MARRIED: Marital status of the individual (0 - No, 1 - Yes).\n",
    "\n",
    "CHILDREN: Indicates whether the individual has children (0 - No, 1 - Yes).\n",
    "\n",
    "POSTAL_CODE: Postal code of the individual.\n",
    "\n",
    "VEHICLE_TYPE: Type of the vehicle (sedan, sports car).\n",
    "\n",
    "SPEEDING_VIOLATIONS: Number of speeding violations by the individual.\n",
    "\n",
    "DUIS: Number of driving under the influence (DUI) incidents by the individual.\n",
    "\n",
    "PAST_ACCIDENTS: Number of past accidents involving the individual.\n",
    "\n",
    "Numerical Variables:\n",
    "\n",
    "CREDIT_SCORE: Credit score of the individual.\n",
    "\n",
    "ANNUAL_MILEAGE: Annual mileage driven by the individual.\n",
    "\n",
    "OUTCOME: Indicates the outcome of the insurance claim (0 - No claim, 1 - Claim filed).\n"
   ]
  },
  {
   "cell_type": "code",
   "execution_count": 4,
   "id": "00c94413",
   "metadata": {},
   "outputs": [
    {
     "data": {
      "text/html": [
       "<div>\n",
       "<style scoped>\n",
       "    .dataframe tbody tr th:only-of-type {\n",
       "        vertical-align: middle;\n",
       "    }\n",
       "\n",
       "    .dataframe tbody tr th {\n",
       "        vertical-align: top;\n",
       "    }\n",
       "\n",
       "    .dataframe thead th {\n",
       "        text-align: right;\n",
       "    }\n",
       "</style>\n",
       "<table border=\"1\" class=\"dataframe\">\n",
       "  <thead>\n",
       "    <tr style=\"text-align: right;\">\n",
       "      <th></th>\n",
       "      <th>ID</th>\n",
       "      <th>AGE</th>\n",
       "      <th>GENDER</th>\n",
       "      <th>RACE</th>\n",
       "      <th>DRIVING_EXPERIENCE</th>\n",
       "      <th>EDUCATION</th>\n",
       "      <th>INCOME</th>\n",
       "      <th>CREDIT_SCORE</th>\n",
       "      <th>VEHICLE_OWNERSHIP</th>\n",
       "      <th>VEHICLE_YEAR</th>\n",
       "      <th>MARRIED</th>\n",
       "      <th>CHILDREN</th>\n",
       "      <th>POSTAL_CODE</th>\n",
       "      <th>ANNUAL_MILEAGE</th>\n",
       "      <th>VEHICLE_TYPE</th>\n",
       "      <th>SPEEDING_VIOLATIONS</th>\n",
       "      <th>DUIS</th>\n",
       "      <th>PAST_ACCIDENTS</th>\n",
       "      <th>OUTCOME</th>\n",
       "    </tr>\n",
       "  </thead>\n",
       "  <tbody>\n",
       "    <tr>\n",
       "      <th>0</th>\n",
       "      <td>569520</td>\n",
       "      <td>65+</td>\n",
       "      <td>female</td>\n",
       "      <td>majority</td>\n",
       "      <td>0-9y</td>\n",
       "      <td>high school</td>\n",
       "      <td>upper class</td>\n",
       "      <td>0.629027</td>\n",
       "      <td>1.0</td>\n",
       "      <td>after 2015</td>\n",
       "      <td>0.0</td>\n",
       "      <td>1.0</td>\n",
       "      <td>10238</td>\n",
       "      <td>12000.0</td>\n",
       "      <td>sedan</td>\n",
       "      <td>0</td>\n",
       "      <td>0</td>\n",
       "      <td>0</td>\n",
       "      <td>0.0</td>\n",
       "    </tr>\n",
       "    <tr>\n",
       "      <th>1</th>\n",
       "      <td>750365</td>\n",
       "      <td>16-25</td>\n",
       "      <td>male</td>\n",
       "      <td>majority</td>\n",
       "      <td>0-9y</td>\n",
       "      <td>none</td>\n",
       "      <td>poverty</td>\n",
       "      <td>0.357757</td>\n",
       "      <td>0.0</td>\n",
       "      <td>before 2015</td>\n",
       "      <td>0.0</td>\n",
       "      <td>0.0</td>\n",
       "      <td>10238</td>\n",
       "      <td>16000.0</td>\n",
       "      <td>sedan</td>\n",
       "      <td>0</td>\n",
       "      <td>0</td>\n",
       "      <td>0</td>\n",
       "      <td>1.0</td>\n",
       "    </tr>\n",
       "    <tr>\n",
       "      <th>2</th>\n",
       "      <td>199901</td>\n",
       "      <td>16-25</td>\n",
       "      <td>female</td>\n",
       "      <td>majority</td>\n",
       "      <td>0-9y</td>\n",
       "      <td>high school</td>\n",
       "      <td>working class</td>\n",
       "      <td>0.493146</td>\n",
       "      <td>1.0</td>\n",
       "      <td>before 2015</td>\n",
       "      <td>0.0</td>\n",
       "      <td>0.0</td>\n",
       "      <td>10238</td>\n",
       "      <td>11000.0</td>\n",
       "      <td>sedan</td>\n",
       "      <td>0</td>\n",
       "      <td>0</td>\n",
       "      <td>0</td>\n",
       "      <td>0.0</td>\n",
       "    </tr>\n",
       "    <tr>\n",
       "      <th>3</th>\n",
       "      <td>478866</td>\n",
       "      <td>16-25</td>\n",
       "      <td>male</td>\n",
       "      <td>majority</td>\n",
       "      <td>0-9y</td>\n",
       "      <td>university</td>\n",
       "      <td>working class</td>\n",
       "      <td>0.206013</td>\n",
       "      <td>1.0</td>\n",
       "      <td>before 2015</td>\n",
       "      <td>0.0</td>\n",
       "      <td>1.0</td>\n",
       "      <td>32765</td>\n",
       "      <td>11000.0</td>\n",
       "      <td>sedan</td>\n",
       "      <td>0</td>\n",
       "      <td>0</td>\n",
       "      <td>0</td>\n",
       "      <td>0.0</td>\n",
       "    </tr>\n",
       "    <tr>\n",
       "      <th>4</th>\n",
       "      <td>731664</td>\n",
       "      <td>26-39</td>\n",
       "      <td>male</td>\n",
       "      <td>majority</td>\n",
       "      <td>10-19y</td>\n",
       "      <td>none</td>\n",
       "      <td>working class</td>\n",
       "      <td>0.388366</td>\n",
       "      <td>1.0</td>\n",
       "      <td>before 2015</td>\n",
       "      <td>0.0</td>\n",
       "      <td>0.0</td>\n",
       "      <td>32765</td>\n",
       "      <td>12000.0</td>\n",
       "      <td>sedan</td>\n",
       "      <td>2</td>\n",
       "      <td>0</td>\n",
       "      <td>1</td>\n",
       "      <td>1.0</td>\n",
       "    </tr>\n",
       "  </tbody>\n",
       "</table>\n",
       "</div>"
      ],
      "text/plain": [
       "       ID    AGE  GENDER      RACE DRIVING_EXPERIENCE    EDUCATION  \\\n",
       "0  569520    65+  female  majority               0-9y  high school   \n",
       "1  750365  16-25    male  majority               0-9y         none   \n",
       "2  199901  16-25  female  majority               0-9y  high school   \n",
       "3  478866  16-25    male  majority               0-9y   university   \n",
       "4  731664  26-39    male  majority             10-19y         none   \n",
       "\n",
       "          INCOME  CREDIT_SCORE  VEHICLE_OWNERSHIP VEHICLE_YEAR  MARRIED  \\\n",
       "0    upper class      0.629027                1.0   after 2015      0.0   \n",
       "1        poverty      0.357757                0.0  before 2015      0.0   \n",
       "2  working class      0.493146                1.0  before 2015      0.0   \n",
       "3  working class      0.206013                1.0  before 2015      0.0   \n",
       "4  working class      0.388366                1.0  before 2015      0.0   \n",
       "\n",
       "   CHILDREN  POSTAL_CODE  ANNUAL_MILEAGE VEHICLE_TYPE  SPEEDING_VIOLATIONS  \\\n",
       "0       1.0        10238         12000.0        sedan                    0   \n",
       "1       0.0        10238         16000.0        sedan                    0   \n",
       "2       0.0        10238         11000.0        sedan                    0   \n",
       "3       1.0        32765         11000.0        sedan                    0   \n",
       "4       0.0        32765         12000.0        sedan                    2   \n",
       "\n",
       "   DUIS  PAST_ACCIDENTS  OUTCOME  \n",
       "0     0               0      0.0  \n",
       "1     0               0      1.0  \n",
       "2     0               0      0.0  \n",
       "3     0               0      0.0  \n",
       "4     0               1      1.0  "
      ]
     },
     "execution_count": 4,
     "metadata": {},
     "output_type": "execute_result"
    }
   ],
   "source": [
    "## to get top 5 rows of dataset\n",
    "data.head()"
   ]
  },
  {
   "cell_type": "code",
   "execution_count": 5,
   "id": "c988cf2d",
   "metadata": {},
   "outputs": [
    {
     "data": {
      "text/html": [
       "<div>\n",
       "<style scoped>\n",
       "    .dataframe tbody tr th:only-of-type {\n",
       "        vertical-align: middle;\n",
       "    }\n",
       "\n",
       "    .dataframe tbody tr th {\n",
       "        vertical-align: top;\n",
       "    }\n",
       "\n",
       "    .dataframe thead th {\n",
       "        text-align: right;\n",
       "    }\n",
       "</style>\n",
       "<table border=\"1\" class=\"dataframe\">\n",
       "  <thead>\n",
       "    <tr style=\"text-align: right;\">\n",
       "      <th></th>\n",
       "      <th>ID</th>\n",
       "      <th>AGE</th>\n",
       "      <th>GENDER</th>\n",
       "      <th>RACE</th>\n",
       "      <th>DRIVING_EXPERIENCE</th>\n",
       "      <th>EDUCATION</th>\n",
       "      <th>INCOME</th>\n",
       "      <th>CREDIT_SCORE</th>\n",
       "      <th>VEHICLE_OWNERSHIP</th>\n",
       "      <th>VEHICLE_YEAR</th>\n",
       "      <th>MARRIED</th>\n",
       "      <th>CHILDREN</th>\n",
       "      <th>POSTAL_CODE</th>\n",
       "      <th>ANNUAL_MILEAGE</th>\n",
       "      <th>VEHICLE_TYPE</th>\n",
       "      <th>SPEEDING_VIOLATIONS</th>\n",
       "      <th>DUIS</th>\n",
       "      <th>PAST_ACCIDENTS</th>\n",
       "      <th>OUTCOME</th>\n",
       "    </tr>\n",
       "  </thead>\n",
       "  <tbody>\n",
       "    <tr>\n",
       "      <th>9995</th>\n",
       "      <td>323164</td>\n",
       "      <td>26-39</td>\n",
       "      <td>female</td>\n",
       "      <td>majority</td>\n",
       "      <td>10-19y</td>\n",
       "      <td>university</td>\n",
       "      <td>upper class</td>\n",
       "      <td>0.582787</td>\n",
       "      <td>1.0</td>\n",
       "      <td>before 2015</td>\n",
       "      <td>0.0</td>\n",
       "      <td>0.0</td>\n",
       "      <td>10238</td>\n",
       "      <td>16000.0</td>\n",
       "      <td>sedan</td>\n",
       "      <td>0</td>\n",
       "      <td>0</td>\n",
       "      <td>1</td>\n",
       "      <td>0.0</td>\n",
       "    </tr>\n",
       "    <tr>\n",
       "      <th>9996</th>\n",
       "      <td>910346</td>\n",
       "      <td>26-39</td>\n",
       "      <td>female</td>\n",
       "      <td>majority</td>\n",
       "      <td>10-19y</td>\n",
       "      <td>none</td>\n",
       "      <td>middle class</td>\n",
       "      <td>0.522231</td>\n",
       "      <td>1.0</td>\n",
       "      <td>after 2015</td>\n",
       "      <td>0.0</td>\n",
       "      <td>1.0</td>\n",
       "      <td>32765</td>\n",
       "      <td>NaN</td>\n",
       "      <td>sedan</td>\n",
       "      <td>1</td>\n",
       "      <td>0</td>\n",
       "      <td>0</td>\n",
       "      <td>0.0</td>\n",
       "    </tr>\n",
       "    <tr>\n",
       "      <th>9997</th>\n",
       "      <td>468409</td>\n",
       "      <td>26-39</td>\n",
       "      <td>male</td>\n",
       "      <td>majority</td>\n",
       "      <td>0-9y</td>\n",
       "      <td>high school</td>\n",
       "      <td>middle class</td>\n",
       "      <td>0.470940</td>\n",
       "      <td>1.0</td>\n",
       "      <td>before 2015</td>\n",
       "      <td>0.0</td>\n",
       "      <td>1.0</td>\n",
       "      <td>10238</td>\n",
       "      <td>14000.0</td>\n",
       "      <td>sedan</td>\n",
       "      <td>0</td>\n",
       "      <td>0</td>\n",
       "      <td>0</td>\n",
       "      <td>0.0</td>\n",
       "    </tr>\n",
       "    <tr>\n",
       "      <th>9998</th>\n",
       "      <td>903459</td>\n",
       "      <td>26-39</td>\n",
       "      <td>female</td>\n",
       "      <td>majority</td>\n",
       "      <td>10-19y</td>\n",
       "      <td>high school</td>\n",
       "      <td>poverty</td>\n",
       "      <td>0.364185</td>\n",
       "      <td>0.0</td>\n",
       "      <td>before 2015</td>\n",
       "      <td>0.0</td>\n",
       "      <td>1.0</td>\n",
       "      <td>10238</td>\n",
       "      <td>13000.0</td>\n",
       "      <td>sedan</td>\n",
       "      <td>2</td>\n",
       "      <td>0</td>\n",
       "      <td>1</td>\n",
       "      <td>1.0</td>\n",
       "    </tr>\n",
       "    <tr>\n",
       "      <th>9999</th>\n",
       "      <td>442696</td>\n",
       "      <td>26-39</td>\n",
       "      <td>female</td>\n",
       "      <td>majority</td>\n",
       "      <td>0-9y</td>\n",
       "      <td>none</td>\n",
       "      <td>working class</td>\n",
       "      <td>0.435225</td>\n",
       "      <td>1.0</td>\n",
       "      <td>before 2015</td>\n",
       "      <td>1.0</td>\n",
       "      <td>1.0</td>\n",
       "      <td>10238</td>\n",
       "      <td>13000.0</td>\n",
       "      <td>sedan</td>\n",
       "      <td>0</td>\n",
       "      <td>0</td>\n",
       "      <td>0</td>\n",
       "      <td>0.0</td>\n",
       "    </tr>\n",
       "  </tbody>\n",
       "</table>\n",
       "</div>"
      ],
      "text/plain": [
       "          ID    AGE  GENDER      RACE DRIVING_EXPERIENCE    EDUCATION  \\\n",
       "9995  323164  26-39  female  majority             10-19y   university   \n",
       "9996  910346  26-39  female  majority             10-19y         none   \n",
       "9997  468409  26-39    male  majority               0-9y  high school   \n",
       "9998  903459  26-39  female  majority             10-19y  high school   \n",
       "9999  442696  26-39  female  majority               0-9y         none   \n",
       "\n",
       "             INCOME  CREDIT_SCORE  VEHICLE_OWNERSHIP VEHICLE_YEAR  MARRIED  \\\n",
       "9995    upper class      0.582787                1.0  before 2015      0.0   \n",
       "9996   middle class      0.522231                1.0   after 2015      0.0   \n",
       "9997   middle class      0.470940                1.0  before 2015      0.0   \n",
       "9998        poverty      0.364185                0.0  before 2015      0.0   \n",
       "9999  working class      0.435225                1.0  before 2015      1.0   \n",
       "\n",
       "      CHILDREN  POSTAL_CODE  ANNUAL_MILEAGE VEHICLE_TYPE  SPEEDING_VIOLATIONS  \\\n",
       "9995       0.0        10238         16000.0        sedan                    0   \n",
       "9996       1.0        32765             NaN        sedan                    1   \n",
       "9997       1.0        10238         14000.0        sedan                    0   \n",
       "9998       1.0        10238         13000.0        sedan                    2   \n",
       "9999       1.0        10238         13000.0        sedan                    0   \n",
       "\n",
       "      DUIS  PAST_ACCIDENTS  OUTCOME  \n",
       "9995     0               1      0.0  \n",
       "9996     0               0      0.0  \n",
       "9997     0               0      0.0  \n",
       "9998     0               1      1.0  \n",
       "9999     0               0      0.0  "
      ]
     },
     "execution_count": 5,
     "metadata": {},
     "output_type": "execute_result"
    }
   ],
   "source": [
    "## to get bottom 5 rows of dataset\n",
    "data.tail()"
   ]
  },
  {
   "cell_type": "code",
   "execution_count": 6,
   "id": "8919d9fa",
   "metadata": {},
   "outputs": [
    {
     "name": "stdout",
     "output_type": "stream",
     "text": [
      "Number of rows: 10000\n",
      "Number of columns: 19\n"
     ]
    }
   ],
   "source": [
    "# Print the dimensions of the DataFrame\n",
    "num_rows, num_cols = data.shape\n",
    "print(\"Number of rows:\", num_rows)\n",
    "print(\"Number of columns:\", num_cols)"
   ]
  },
  {
   "cell_type": "code",
   "execution_count": 7,
   "id": "700ae4bf",
   "metadata": {},
   "outputs": [
    {
     "name": "stdout",
     "output_type": "stream",
     "text": [
      "<class 'pandas.core.frame.DataFrame'>\n",
      "RangeIndex: 10000 entries, 0 to 9999\n",
      "Data columns (total 19 columns):\n",
      " #   Column               Non-Null Count  Dtype  \n",
      "---  ------               --------------  -----  \n",
      " 0   ID                   10000 non-null  int64  \n",
      " 1   AGE                  10000 non-null  object \n",
      " 2   GENDER               10000 non-null  object \n",
      " 3   RACE                 10000 non-null  object \n",
      " 4   DRIVING_EXPERIENCE   10000 non-null  object \n",
      " 5   EDUCATION            10000 non-null  object \n",
      " 6   INCOME               10000 non-null  object \n",
      " 7   CREDIT_SCORE         9018 non-null   float64\n",
      " 8   VEHICLE_OWNERSHIP    10000 non-null  float64\n",
      " 9   VEHICLE_YEAR         10000 non-null  object \n",
      " 10  MARRIED              10000 non-null  float64\n",
      " 11  CHILDREN             10000 non-null  float64\n",
      " 12  POSTAL_CODE          10000 non-null  int64  \n",
      " 13  ANNUAL_MILEAGE       9043 non-null   float64\n",
      " 14  VEHICLE_TYPE         10000 non-null  object \n",
      " 15  SPEEDING_VIOLATIONS  10000 non-null  int64  \n",
      " 16  DUIS                 10000 non-null  int64  \n",
      " 17  PAST_ACCIDENTS       10000 non-null  int64  \n",
      " 18  OUTCOME              10000 non-null  float64\n",
      "dtypes: float64(6), int64(5), object(8)\n",
      "memory usage: 1.4+ MB\n"
     ]
    }
   ],
   "source": [
    "#Check the info of the data set which describes null values, data type, memory usage\n",
    "data.info()"
   ]
  },
  {
   "cell_type": "markdown",
   "id": "af50a953",
   "metadata": {},
   "source": [
    "Data types:\n",
    "\n",
    "Float64: CREDIT_SCORE, ANNUAL_MILEAGE.\n",
    "\n",
    "Int64: ID, VEHICLE_OWNERSHIP, MARRIED, CHILDREN, POSTAL_CODE, SPEEDING_VIOLATIONS, DUIS, PAST_ACCIDENTS, OUTCOME.\n",
    "\n",
    "Object: AGE, GENDER, RACE, DRIVING_EXPERIENCE, EDUCATION, INCOME, VEHICLE_YEAR, VEHICLE_TYPE."
   ]
  },
  {
   "cell_type": "code",
   "execution_count": 8,
   "id": "b2de3048",
   "metadata": {},
   "outputs": [
    {
     "data": {
      "text/html": [
       "<div>\n",
       "<style scoped>\n",
       "    .dataframe tbody tr th:only-of-type {\n",
       "        vertical-align: middle;\n",
       "    }\n",
       "\n",
       "    .dataframe tbody tr th {\n",
       "        vertical-align: top;\n",
       "    }\n",
       "\n",
       "    .dataframe thead th {\n",
       "        text-align: right;\n",
       "    }\n",
       "</style>\n",
       "<table border=\"1\" class=\"dataframe\">\n",
       "  <thead>\n",
       "    <tr style=\"text-align: right;\">\n",
       "      <th></th>\n",
       "      <th>ID</th>\n",
       "      <th>CREDIT_SCORE</th>\n",
       "      <th>VEHICLE_OWNERSHIP</th>\n",
       "      <th>MARRIED</th>\n",
       "      <th>CHILDREN</th>\n",
       "      <th>POSTAL_CODE</th>\n",
       "      <th>ANNUAL_MILEAGE</th>\n",
       "      <th>SPEEDING_VIOLATIONS</th>\n",
       "      <th>DUIS</th>\n",
       "      <th>PAST_ACCIDENTS</th>\n",
       "      <th>OUTCOME</th>\n",
       "    </tr>\n",
       "  </thead>\n",
       "  <tbody>\n",
       "    <tr>\n",
       "      <th>count</th>\n",
       "      <td>10000.000000</td>\n",
       "      <td>9018.000000</td>\n",
       "      <td>10000.000000</td>\n",
       "      <td>10000.000000</td>\n",
       "      <td>10000.000000</td>\n",
       "      <td>10000.000000</td>\n",
       "      <td>9043.000000</td>\n",
       "      <td>10000.000000</td>\n",
       "      <td>10000.00000</td>\n",
       "      <td>10000.000000</td>\n",
       "      <td>10000.000000</td>\n",
       "    </tr>\n",
       "    <tr>\n",
       "      <th>mean</th>\n",
       "      <td>500521.906800</td>\n",
       "      <td>0.515813</td>\n",
       "      <td>0.697000</td>\n",
       "      <td>0.498200</td>\n",
       "      <td>0.688800</td>\n",
       "      <td>19864.548400</td>\n",
       "      <td>11697.003207</td>\n",
       "      <td>1.482900</td>\n",
       "      <td>0.23920</td>\n",
       "      <td>1.056300</td>\n",
       "      <td>0.313300</td>\n",
       "    </tr>\n",
       "    <tr>\n",
       "      <th>std</th>\n",
       "      <td>290030.768758</td>\n",
       "      <td>0.137688</td>\n",
       "      <td>0.459578</td>\n",
       "      <td>0.500022</td>\n",
       "      <td>0.463008</td>\n",
       "      <td>18915.613855</td>\n",
       "      <td>2818.434528</td>\n",
       "      <td>2.241966</td>\n",
       "      <td>0.55499</td>\n",
       "      <td>1.652454</td>\n",
       "      <td>0.463858</td>\n",
       "    </tr>\n",
       "    <tr>\n",
       "      <th>min</th>\n",
       "      <td>101.000000</td>\n",
       "      <td>0.053358</td>\n",
       "      <td>0.000000</td>\n",
       "      <td>0.000000</td>\n",
       "      <td>0.000000</td>\n",
       "      <td>10238.000000</td>\n",
       "      <td>2000.000000</td>\n",
       "      <td>0.000000</td>\n",
       "      <td>0.00000</td>\n",
       "      <td>0.000000</td>\n",
       "      <td>0.000000</td>\n",
       "    </tr>\n",
       "    <tr>\n",
       "      <th>25%</th>\n",
       "      <td>249638.500000</td>\n",
       "      <td>0.417191</td>\n",
       "      <td>0.000000</td>\n",
       "      <td>0.000000</td>\n",
       "      <td>0.000000</td>\n",
       "      <td>10238.000000</td>\n",
       "      <td>10000.000000</td>\n",
       "      <td>0.000000</td>\n",
       "      <td>0.00000</td>\n",
       "      <td>0.000000</td>\n",
       "      <td>0.000000</td>\n",
       "    </tr>\n",
       "    <tr>\n",
       "      <th>50%</th>\n",
       "      <td>501777.000000</td>\n",
       "      <td>0.525033</td>\n",
       "      <td>1.000000</td>\n",
       "      <td>0.000000</td>\n",
       "      <td>1.000000</td>\n",
       "      <td>10238.000000</td>\n",
       "      <td>12000.000000</td>\n",
       "      <td>0.000000</td>\n",
       "      <td>0.00000</td>\n",
       "      <td>0.000000</td>\n",
       "      <td>0.000000</td>\n",
       "    </tr>\n",
       "    <tr>\n",
       "      <th>75%</th>\n",
       "      <td>753974.500000</td>\n",
       "      <td>0.618312</td>\n",
       "      <td>1.000000</td>\n",
       "      <td>1.000000</td>\n",
       "      <td>1.000000</td>\n",
       "      <td>32765.000000</td>\n",
       "      <td>14000.000000</td>\n",
       "      <td>2.000000</td>\n",
       "      <td>0.00000</td>\n",
       "      <td>2.000000</td>\n",
       "      <td>1.000000</td>\n",
       "    </tr>\n",
       "    <tr>\n",
       "      <th>max</th>\n",
       "      <td>999976.000000</td>\n",
       "      <td>0.960819</td>\n",
       "      <td>1.000000</td>\n",
       "      <td>1.000000</td>\n",
       "      <td>1.000000</td>\n",
       "      <td>92101.000000</td>\n",
       "      <td>22000.000000</td>\n",
       "      <td>22.000000</td>\n",
       "      <td>6.00000</td>\n",
       "      <td>15.000000</td>\n",
       "      <td>1.000000</td>\n",
       "    </tr>\n",
       "  </tbody>\n",
       "</table>\n",
       "</div>"
      ],
      "text/plain": [
       "                  ID  CREDIT_SCORE  VEHICLE_OWNERSHIP       MARRIED  \\\n",
       "count   10000.000000   9018.000000       10000.000000  10000.000000   \n",
       "mean   500521.906800      0.515813           0.697000      0.498200   \n",
       "std    290030.768758      0.137688           0.459578      0.500022   \n",
       "min       101.000000      0.053358           0.000000      0.000000   \n",
       "25%    249638.500000      0.417191           0.000000      0.000000   \n",
       "50%    501777.000000      0.525033           1.000000      0.000000   \n",
       "75%    753974.500000      0.618312           1.000000      1.000000   \n",
       "max    999976.000000      0.960819           1.000000      1.000000   \n",
       "\n",
       "           CHILDREN   POSTAL_CODE  ANNUAL_MILEAGE  SPEEDING_VIOLATIONS  \\\n",
       "count  10000.000000  10000.000000     9043.000000         10000.000000   \n",
       "mean       0.688800  19864.548400    11697.003207             1.482900   \n",
       "std        0.463008  18915.613855     2818.434528             2.241966   \n",
       "min        0.000000  10238.000000     2000.000000             0.000000   \n",
       "25%        0.000000  10238.000000    10000.000000             0.000000   \n",
       "50%        1.000000  10238.000000    12000.000000             0.000000   \n",
       "75%        1.000000  32765.000000    14000.000000             2.000000   \n",
       "max        1.000000  92101.000000    22000.000000            22.000000   \n",
       "\n",
       "              DUIS  PAST_ACCIDENTS       OUTCOME  \n",
       "count  10000.00000    10000.000000  10000.000000  \n",
       "mean       0.23920        1.056300      0.313300  \n",
       "std        0.55499        1.652454      0.463858  \n",
       "min        0.00000        0.000000      0.000000  \n",
       "25%        0.00000        0.000000      0.000000  \n",
       "50%        0.00000        0.000000      0.000000  \n",
       "75%        0.00000        2.000000      1.000000  \n",
       "max        6.00000       15.000000      1.000000  "
      ]
     },
     "execution_count": 8,
     "metadata": {},
     "output_type": "execute_result"
    }
   ],
   "source": [
    "## Describe th data\n",
    "data.describe()"
   ]
  },
  {
   "cell_type": "markdown",
   "id": "3a060ed6",
   "metadata": {},
   "source": [
    "# Output Explanation:"
   ]
  },
  {
   "cell_type": "markdown",
   "id": "d344c2b3",
   "metadata": {},
   "source": [
    "Count: The number of non-null values in each column.\n",
    "\n",
    "Mean: The average value of the data in each column.\n",
    "    \n",
    "Standard Deviation: The measure of the spread or dispersion of the data.\n",
    "    \n",
    "Minimum: The smallest value in each column.\n",
    "    \n",
    "25th Percentile: The value below which 25% of the data falls.\n",
    "    \n",
    "50th Percentile (Median): The middle value in the sorted data (also known as the median).\n",
    "    \n",
    "75th Percentile: The value below which 75% of the data falls.\n",
    "    \n",
    "Maximum: The largest value in each column."
   ]
  },
  {
   "cell_type": "code",
   "execution_count": 9,
   "id": "1cc075a3",
   "metadata": {},
   "outputs": [
    {
     "data": {
      "text/html": [
       "<div>\n",
       "<style scoped>\n",
       "    .dataframe tbody tr th:only-of-type {\n",
       "        vertical-align: middle;\n",
       "    }\n",
       "\n",
       "    .dataframe tbody tr th {\n",
       "        vertical-align: top;\n",
       "    }\n",
       "\n",
       "    .dataframe thead th {\n",
       "        text-align: right;\n",
       "    }\n",
       "</style>\n",
       "<table border=\"1\" class=\"dataframe\">\n",
       "  <thead>\n",
       "    <tr style=\"text-align: right;\">\n",
       "      <th></th>\n",
       "      <th>AGE</th>\n",
       "      <th>GENDER</th>\n",
       "      <th>RACE</th>\n",
       "      <th>DRIVING_EXPERIENCE</th>\n",
       "      <th>EDUCATION</th>\n",
       "      <th>INCOME</th>\n",
       "      <th>VEHICLE_YEAR</th>\n",
       "      <th>VEHICLE_TYPE</th>\n",
       "    </tr>\n",
       "  </thead>\n",
       "  <tbody>\n",
       "    <tr>\n",
       "      <th>count</th>\n",
       "      <td>10000</td>\n",
       "      <td>10000</td>\n",
       "      <td>10000</td>\n",
       "      <td>10000</td>\n",
       "      <td>10000</td>\n",
       "      <td>10000</td>\n",
       "      <td>10000</td>\n",
       "      <td>10000</td>\n",
       "    </tr>\n",
       "    <tr>\n",
       "      <th>unique</th>\n",
       "      <td>4</td>\n",
       "      <td>2</td>\n",
       "      <td>2</td>\n",
       "      <td>4</td>\n",
       "      <td>3</td>\n",
       "      <td>4</td>\n",
       "      <td>2</td>\n",
       "      <td>2</td>\n",
       "    </tr>\n",
       "    <tr>\n",
       "      <th>top</th>\n",
       "      <td>26-39</td>\n",
       "      <td>female</td>\n",
       "      <td>majority</td>\n",
       "      <td>0-9y</td>\n",
       "      <td>high school</td>\n",
       "      <td>upper class</td>\n",
       "      <td>before 2015</td>\n",
       "      <td>sedan</td>\n",
       "    </tr>\n",
       "    <tr>\n",
       "      <th>freq</th>\n",
       "      <td>3063</td>\n",
       "      <td>5010</td>\n",
       "      <td>9012</td>\n",
       "      <td>3530</td>\n",
       "      <td>4157</td>\n",
       "      <td>4336</td>\n",
       "      <td>6967</td>\n",
       "      <td>9523</td>\n",
       "    </tr>\n",
       "  </tbody>\n",
       "</table>\n",
       "</div>"
      ],
      "text/plain": [
       "          AGE  GENDER      RACE DRIVING_EXPERIENCE    EDUCATION       INCOME  \\\n",
       "count   10000   10000     10000              10000        10000        10000   \n",
       "unique      4       2         2                  4            3            4   \n",
       "top     26-39  female  majority               0-9y  high school  upper class   \n",
       "freq     3063    5010      9012               3530         4157         4336   \n",
       "\n",
       "       VEHICLE_YEAR VEHICLE_TYPE  \n",
       "count         10000        10000  \n",
       "unique            2            2  \n",
       "top     before 2015        sedan  \n",
       "freq           6967         9523  "
      ]
     },
     "execution_count": 9,
     "metadata": {},
     "output_type": "execute_result"
    }
   ],
   "source": [
    "# Describe categorical data\n",
    "data.describe(include='object')"
   ]
  },
  {
   "cell_type": "markdown",
   "id": "b0cdf937",
   "metadata": {},
   "source": [
    "# Output Explanation:\n"
   ]
  },
  {
   "cell_type": "markdown",
   "id": "ec99905a",
   "metadata": {},
   "source": [
    "Count: The number of non-null values in each categorical column.\n",
    "\n",
    "Unique: The number of unique categories in each column.\n",
    "\n",
    "Top: The most frequent category in each column.\n",
    "\n",
    "Frequency: The frequency of the top category in each column.\n",
    "\n",
    "\n",
    "\n",
    "AGE:\n",
    "\n",
    "Count: 10000\n",
    "Unique: 4\n",
    "Top: 26-39\n",
    "Frequency: 3063\n",
    " \n",
    " \n",
    "GENDER:\n",
    "\n",
    "Count: 10000\n",
    "Unique: 2\n",
    "Top: female\n",
    "Frequency: 5010\n",
    "   \n",
    "   \n",
    "RACE:\n",
    "\n",
    "Count: 10000\n",
    "Unique: 2\n",
    "Top: majority\n",
    "Frequency: 9012\n",
    "    \n",
    "    \n",
    "DRIVING_EXPERIENCE:\n",
    "\n",
    "Count: 10000\n",
    "Unique: 4\n",
    "Top: 0-9y\n",
    "Frequency: 3530\n",
    "    \n",
    "    \n",
    "EDUCATION:\n",
    "\n",
    "Count: 10000\n",
    "Unique: 3\n",
    "Top: high school\n",
    "Frequency: 4157\n",
    "    \n",
    "    \n",
    "INCOME:\n",
    "\n",
    "Count: 10000\n",
    "Unique: 4\n",
    "Top: upper class\n",
    "Frequency: 4336\n",
    "    \n",
    "    \n",
    "VEHICLE_YEAR:\n",
    "\n",
    "Count: 10000\n",
    "Unique: 2\n",
    "Top: before 2015\n",
    "Frequency: 6967\n",
    "    \n",
    "    \n",
    "VEHICLE_TYPE:\n",
    "    \n",
    "Count: 10000\n",
    "Unique: 2\n",
    "Top: sedan\n",
    "Frequency: 9523"
   ]
  },
  {
   "cell_type": "code",
   "execution_count": 10,
   "id": "9aaef88f",
   "metadata": {},
   "outputs": [
    {
     "data": {
      "text/plain": [
       "['ID',\n",
       " 'AGE',\n",
       " 'GENDER',\n",
       " 'RACE',\n",
       " 'DRIVING_EXPERIENCE',\n",
       " 'EDUCATION',\n",
       " 'INCOME',\n",
       " 'CREDIT_SCORE',\n",
       " 'VEHICLE_OWNERSHIP',\n",
       " 'VEHICLE_YEAR',\n",
       " 'MARRIED',\n",
       " 'CHILDREN',\n",
       " 'POSTAL_CODE',\n",
       " 'ANNUAL_MILEAGE',\n",
       " 'VEHICLE_TYPE',\n",
       " 'SPEEDING_VIOLATIONS',\n",
       " 'DUIS',\n",
       " 'PAST_ACCIDENTS',\n",
       " 'OUTCOME']"
      ]
     },
     "execution_count": 10,
     "metadata": {},
     "output_type": "execute_result"
    }
   ],
   "source": [
    "# column names\n",
    "data.columns.tolist()"
   ]
  },
  {
   "cell_type": "code",
   "execution_count": 11,
   "id": "3cc87a07",
   "metadata": {},
   "outputs": [
    {
     "data": {
      "text/plain": [
       "['AGE',\n",
       " 'GENDER',\n",
       " 'RACE',\n",
       " 'DRIVING_EXPERIENCE',\n",
       " 'EDUCATION',\n",
       " 'INCOME',\n",
       " 'VEHICLE_YEAR',\n",
       " 'VEHICLE_TYPE']"
      ]
     },
     "execution_count": 11,
     "metadata": {},
     "output_type": "execute_result"
    }
   ],
   "source": [
    "## objects feature(column) names\n",
    "objects = list(data.dtypes[data.dtypes == 'object'].index)\n",
    "objects"
   ]
  },
  {
   "cell_type": "code",
   "execution_count": 12,
   "id": "4764a917",
   "metadata": {},
   "outputs": [
    {
     "data": {
      "text/plain": [
       "['ID',\n",
       " 'CREDIT_SCORE',\n",
       " 'VEHICLE_OWNERSHIP',\n",
       " 'MARRIED',\n",
       " 'CHILDREN',\n",
       " 'POSTAL_CODE',\n",
       " 'ANNUAL_MILEAGE',\n",
       " 'SPEEDING_VIOLATIONS',\n",
       " 'DUIS',\n",
       " 'PAST_ACCIDENTS',\n",
       " 'OUTCOME']"
      ]
     },
     "execution_count": 12,
     "metadata": {},
     "output_type": "execute_result"
    }
   ],
   "source": [
    "## numerical feature(column)\n",
    "numerical = list(data.dtypes[data.dtypes != 'object'].index)\n",
    "numerical"
   ]
  },
  {
   "cell_type": "code",
   "execution_count": 13,
   "id": "65712b4f",
   "metadata": {},
   "outputs": [
    {
     "data": {
      "text/html": [
       "<div>\n",
       "<style scoped>\n",
       "    .dataframe tbody tr th:only-of-type {\n",
       "        vertical-align: middle;\n",
       "    }\n",
       "\n",
       "    .dataframe tbody tr th {\n",
       "        vertical-align: top;\n",
       "    }\n",
       "\n",
       "    .dataframe thead th {\n",
       "        text-align: right;\n",
       "    }\n",
       "</style>\n",
       "<table border=\"1\" class=\"dataframe\">\n",
       "  <thead>\n",
       "    <tr style=\"text-align: right;\">\n",
       "      <th></th>\n",
       "      <th>ID</th>\n",
       "      <th>AGE</th>\n",
       "      <th>GENDER</th>\n",
       "      <th>RACE</th>\n",
       "      <th>DRIVING_EXPERIENCE</th>\n",
       "      <th>EDUCATION</th>\n",
       "      <th>INCOME</th>\n",
       "      <th>CREDIT_SCORE</th>\n",
       "      <th>VEHICLE_OWNERSHIP</th>\n",
       "      <th>VEHICLE_YEAR</th>\n",
       "      <th>MARRIED</th>\n",
       "      <th>CHILDREN</th>\n",
       "      <th>POSTAL_CODE</th>\n",
       "      <th>ANNUAL_MILEAGE</th>\n",
       "      <th>VEHICLE_TYPE</th>\n",
       "      <th>SPEEDING_VIOLATIONS</th>\n",
       "      <th>DUIS</th>\n",
       "      <th>PAST_ACCIDENTS</th>\n",
       "      <th>OUTCOME</th>\n",
       "    </tr>\n",
       "  </thead>\n",
       "  <tbody>\n",
       "    <tr>\n",
       "      <th>0</th>\n",
       "      <td>569520</td>\n",
       "      <td>65+</td>\n",
       "      <td>female</td>\n",
       "      <td>majority</td>\n",
       "      <td>0-9y</td>\n",
       "      <td>high_school</td>\n",
       "      <td>upper_class</td>\n",
       "      <td>0.629027</td>\n",
       "      <td>1.0</td>\n",
       "      <td>after_2015</td>\n",
       "      <td>0.0</td>\n",
       "      <td>1.0</td>\n",
       "      <td>10238</td>\n",
       "      <td>12000.0</td>\n",
       "      <td>sedan</td>\n",
       "      <td>0</td>\n",
       "      <td>0</td>\n",
       "      <td>0</td>\n",
       "      <td>0.0</td>\n",
       "    </tr>\n",
       "    <tr>\n",
       "      <th>1</th>\n",
       "      <td>750365</td>\n",
       "      <td>16-25</td>\n",
       "      <td>male</td>\n",
       "      <td>majority</td>\n",
       "      <td>0-9y</td>\n",
       "      <td>none</td>\n",
       "      <td>poverty</td>\n",
       "      <td>0.357757</td>\n",
       "      <td>0.0</td>\n",
       "      <td>before_2015</td>\n",
       "      <td>0.0</td>\n",
       "      <td>0.0</td>\n",
       "      <td>10238</td>\n",
       "      <td>16000.0</td>\n",
       "      <td>sedan</td>\n",
       "      <td>0</td>\n",
       "      <td>0</td>\n",
       "      <td>0</td>\n",
       "      <td>1.0</td>\n",
       "    </tr>\n",
       "    <tr>\n",
       "      <th>2</th>\n",
       "      <td>199901</td>\n",
       "      <td>16-25</td>\n",
       "      <td>female</td>\n",
       "      <td>majority</td>\n",
       "      <td>0-9y</td>\n",
       "      <td>high_school</td>\n",
       "      <td>working_class</td>\n",
       "      <td>0.493146</td>\n",
       "      <td>1.0</td>\n",
       "      <td>before_2015</td>\n",
       "      <td>0.0</td>\n",
       "      <td>0.0</td>\n",
       "      <td>10238</td>\n",
       "      <td>11000.0</td>\n",
       "      <td>sedan</td>\n",
       "      <td>0</td>\n",
       "      <td>0</td>\n",
       "      <td>0</td>\n",
       "      <td>0.0</td>\n",
       "    </tr>\n",
       "    <tr>\n",
       "      <th>3</th>\n",
       "      <td>478866</td>\n",
       "      <td>16-25</td>\n",
       "      <td>male</td>\n",
       "      <td>majority</td>\n",
       "      <td>0-9y</td>\n",
       "      <td>university</td>\n",
       "      <td>working_class</td>\n",
       "      <td>0.206013</td>\n",
       "      <td>1.0</td>\n",
       "      <td>before_2015</td>\n",
       "      <td>0.0</td>\n",
       "      <td>1.0</td>\n",
       "      <td>32765</td>\n",
       "      <td>11000.0</td>\n",
       "      <td>sedan</td>\n",
       "      <td>0</td>\n",
       "      <td>0</td>\n",
       "      <td>0</td>\n",
       "      <td>0.0</td>\n",
       "    </tr>\n",
       "    <tr>\n",
       "      <th>4</th>\n",
       "      <td>731664</td>\n",
       "      <td>26-39</td>\n",
       "      <td>male</td>\n",
       "      <td>majority</td>\n",
       "      <td>10-19y</td>\n",
       "      <td>none</td>\n",
       "      <td>working_class</td>\n",
       "      <td>0.388366</td>\n",
       "      <td>1.0</td>\n",
       "      <td>before_2015</td>\n",
       "      <td>0.0</td>\n",
       "      <td>0.0</td>\n",
       "      <td>32765</td>\n",
       "      <td>12000.0</td>\n",
       "      <td>sedan</td>\n",
       "      <td>2</td>\n",
       "      <td>0</td>\n",
       "      <td>1</td>\n",
       "      <td>1.0</td>\n",
       "    </tr>\n",
       "  </tbody>\n",
       "</table>\n",
       "</div>"
      ],
      "text/plain": [
       "       ID    AGE  GENDER      RACE DRIVING_EXPERIENCE    EDUCATION  \\\n",
       "0  569520    65+  female  majority               0-9y  high_school   \n",
       "1  750365  16-25    male  majority               0-9y         none   \n",
       "2  199901  16-25  female  majority               0-9y  high_school   \n",
       "3  478866  16-25    male  majority               0-9y   university   \n",
       "4  731664  26-39    male  majority             10-19y         none   \n",
       "\n",
       "          INCOME  CREDIT_SCORE  VEHICLE_OWNERSHIP VEHICLE_YEAR  MARRIED  \\\n",
       "0    upper_class      0.629027                1.0   after_2015      0.0   \n",
       "1        poverty      0.357757                0.0  before_2015      0.0   \n",
       "2  working_class      0.493146                1.0  before_2015      0.0   \n",
       "3  working_class      0.206013                1.0  before_2015      0.0   \n",
       "4  working_class      0.388366                1.0  before_2015      0.0   \n",
       "\n",
       "   CHILDREN  POSTAL_CODE  ANNUAL_MILEAGE VEHICLE_TYPE  SPEEDING_VIOLATIONS  \\\n",
       "0       1.0        10238         12000.0        sedan                    0   \n",
       "1       0.0        10238         16000.0        sedan                    0   \n",
       "2       0.0        10238         11000.0        sedan                    0   \n",
       "3       1.0        32765         11000.0        sedan                    0   \n",
       "4       0.0        32765         12000.0        sedan                    2   \n",
       "\n",
       "   DUIS  PAST_ACCIDENTS  OUTCOME  \n",
       "0     0               0      0.0  \n",
       "1     0               0      1.0  \n",
       "2     0               0      0.0  \n",
       "3     0               0      0.0  \n",
       "4     0               1      1.0  "
      ]
     },
     "execution_count": 13,
     "metadata": {},
     "output_type": "execute_result"
    }
   ],
   "source": [
    "# Cleaning cayegorical data in our dataset\n",
    "for col in objects:\n",
    "    data[col] = data[col].str.replace(\" \", \"_\")\n",
    "    \n",
    "data.head()"
   ]
  },
  {
   "cell_type": "markdown",
   "id": "42099a99",
   "metadata": {},
   "source": [
    "# 3. Exploratory Data Analysis"
   ]
  },
  {
   "cell_type": "markdown",
   "id": "166eb4be",
   "metadata": {},
   "source": [
    "# 3.1 checking for duplicate values"
   ]
  },
  {
   "cell_type": "code",
   "execution_count": 14,
   "id": "9e66de95",
   "metadata": {},
   "outputs": [
    {
     "data": {
      "text/plain": [
       "0"
      ]
     },
     "execution_count": 14,
     "metadata": {},
     "output_type": "execute_result"
    }
   ],
   "source": [
    "## to check duplicate values\n",
    "data.duplicated().sum()"
   ]
  },
  {
   "cell_type": "markdown",
   "id": "46272e91",
   "metadata": {},
   "source": [
    "# 3.2 Checking for missing values / null value treatment"
   ]
  },
  {
   "cell_type": "code",
   "execution_count": 15,
   "id": "5b73031c",
   "metadata": {},
   "outputs": [
    {
     "data": {
      "text/plain": [
       "ID                       0\n",
       "AGE                      0\n",
       "GENDER                   0\n",
       "RACE                     0\n",
       "DRIVING_EXPERIENCE       0\n",
       "EDUCATION                0\n",
       "INCOME                   0\n",
       "CREDIT_SCORE           982\n",
       "VEHICLE_OWNERSHIP        0\n",
       "VEHICLE_YEAR             0\n",
       "MARRIED                  0\n",
       "CHILDREN                 0\n",
       "POSTAL_CODE              0\n",
       "ANNUAL_MILEAGE         957\n",
       "VEHICLE_TYPE             0\n",
       "SPEEDING_VIOLATIONS      0\n",
       "DUIS                     0\n",
       "PAST_ACCIDENTS           0\n",
       "OUTCOME                  0\n",
       "dtype: int64"
      ]
     },
     "execution_count": 15,
     "metadata": {},
     "output_type": "execute_result"
    }
   ],
   "source": [
    "# missing values in each column\n",
    "data.isnull().sum()"
   ]
  },
  {
   "cell_type": "code",
   "execution_count": 16,
   "id": "95c62c1e",
   "metadata": {},
   "outputs": [
    {
     "data": {
      "text/plain": [
       "ID                     0.00\n",
       "AGE                    0.00\n",
       "GENDER                 0.00\n",
       "RACE                   0.00\n",
       "DRIVING_EXPERIENCE     0.00\n",
       "EDUCATION              0.00\n",
       "INCOME                 0.00\n",
       "CREDIT_SCORE           9.82\n",
       "VEHICLE_OWNERSHIP      0.00\n",
       "VEHICLE_YEAR           0.00\n",
       "MARRIED                0.00\n",
       "CHILDREN               0.00\n",
       "POSTAL_CODE            0.00\n",
       "ANNUAL_MILEAGE         9.57\n",
       "VEHICLE_TYPE           0.00\n",
       "SPEEDING_VIOLATIONS    0.00\n",
       "DUIS                   0.00\n",
       "PAST_ACCIDENTS         0.00\n",
       "OUTCOME                0.00\n",
       "dtype: float64"
      ]
     },
     "execution_count": 16,
     "metadata": {},
     "output_type": "execute_result"
    }
   ],
   "source": [
    "# missing values in percentage\n",
    "round(data.isnull().sum()/len(data)*100,2)"
   ]
  },
  {
   "cell_type": "code",
   "execution_count": 17,
   "id": "470947c0",
   "metadata": {},
   "outputs": [
    {
     "data": {
      "image/png": "[encoded data removed]",
      "text/plain": [
       "<Figure size 1400x500 with 1 Axes>"
      ]
     },
     "metadata": {},
     "output_type": "display_data"
    }
   ],
   "source": [
    "# Calculate the count of missing values in each column\n",
    "missing_values_count = data.isnull().sum()\n",
    "\n",
    "# Plot missing values using a bar graph\n",
    "plt.figure(figsize=(14, 5))\n",
    "missing_values_count.plot(kind='bar', color='skyblue')\n",
    "plt.title('Count of Missing Values in Each Column')\n",
    "plt.xlabel('Columns')\n",
    "plt.ylabel('Count of Missing Values')\n",
    "plt.xticks(rotation=90) ##alignment of row names \n",
    "plt.show()"
   ]
  },
  {
   "cell_type": "markdown",
   "id": "1c6838f6",
   "metadata": {},
   "source": [
    "CREDIT_SCORE and ANNUAL_MILEAGE have more null values compare to other features or columns."
   ]
  },
  {
   "cell_type": "code",
   "execution_count": 18,
   "id": "40042152",
   "metadata": {},
   "outputs": [
    {
     "name": "stdout",
     "output_type": "stream",
     "text": [
      "There are 2 columns in Car_Insurance_Claim with missing values.\n"
     ]
    }
   ],
   "source": [
    "print(f'There are {data.isnull().any().sum()} columns in Car_Insurance_Claim with missing values.')"
   ]
  },
  {
   "cell_type": "markdown",
   "id": "85f1371d",
   "metadata": {},
   "source": [
    "# 3.3 Handling null values"
   ]
  },
  {
   "cell_type": "code",
   "execution_count": 19,
   "id": "6a5818f0",
   "metadata": {},
   "outputs": [
    {
     "data": {
      "text/html": [
       "<div>\n",
       "<style scoped>\n",
       "    .dataframe tbody tr th:only-of-type {\n",
       "        vertical-align: middle;\n",
       "    }\n",
       "\n",
       "    .dataframe tbody tr th {\n",
       "        vertical-align: top;\n",
       "    }\n",
       "\n",
       "    .dataframe thead th {\n",
       "        text-align: right;\n",
       "    }\n",
       "</style>\n",
       "<table border=\"1\" class=\"dataframe\">\n",
       "  <thead>\n",
       "    <tr style=\"text-align: right;\">\n",
       "      <th></th>\n",
       "      <th>ID</th>\n",
       "      <th>AGE</th>\n",
       "      <th>GENDER</th>\n",
       "      <th>RACE</th>\n",
       "      <th>DRIVING_EXPERIENCE</th>\n",
       "      <th>EDUCATION</th>\n",
       "      <th>INCOME</th>\n",
       "      <th>CREDIT_SCORE</th>\n",
       "      <th>VEHICLE_OWNERSHIP</th>\n",
       "      <th>VEHICLE_YEAR</th>\n",
       "      <th>MARRIED</th>\n",
       "      <th>CHILDREN</th>\n",
       "      <th>POSTAL_CODE</th>\n",
       "      <th>ANNUAL_MILEAGE</th>\n",
       "      <th>VEHICLE_TYPE</th>\n",
       "      <th>SPEEDING_VIOLATIONS</th>\n",
       "      <th>DUIS</th>\n",
       "      <th>PAST_ACCIDENTS</th>\n",
       "      <th>OUTCOME</th>\n",
       "    </tr>\n",
       "  </thead>\n",
       "  <tbody>\n",
       "    <tr>\n",
       "      <th>0</th>\n",
       "      <td>569520</td>\n",
       "      <td>65+</td>\n",
       "      <td>female</td>\n",
       "      <td>majority</td>\n",
       "      <td>0-9y</td>\n",
       "      <td>high_school</td>\n",
       "      <td>upper_class</td>\n",
       "      <td>0.629027</td>\n",
       "      <td>1.0</td>\n",
       "      <td>after_2015</td>\n",
       "      <td>0.0</td>\n",
       "      <td>1.0</td>\n",
       "      <td>10238</td>\n",
       "      <td>12000.0</td>\n",
       "      <td>sedan</td>\n",
       "      <td>0</td>\n",
       "      <td>0</td>\n",
       "      <td>0</td>\n",
       "      <td>0.0</td>\n",
       "    </tr>\n",
       "    <tr>\n",
       "      <th>1</th>\n",
       "      <td>750365</td>\n",
       "      <td>16-25</td>\n",
       "      <td>male</td>\n",
       "      <td>majority</td>\n",
       "      <td>0-9y</td>\n",
       "      <td>none</td>\n",
       "      <td>poverty</td>\n",
       "      <td>0.357757</td>\n",
       "      <td>0.0</td>\n",
       "      <td>before_2015</td>\n",
       "      <td>0.0</td>\n",
       "      <td>0.0</td>\n",
       "      <td>10238</td>\n",
       "      <td>16000.0</td>\n",
       "      <td>sedan</td>\n",
       "      <td>0</td>\n",
       "      <td>0</td>\n",
       "      <td>0</td>\n",
       "      <td>1.0</td>\n",
       "    </tr>\n",
       "    <tr>\n",
       "      <th>2</th>\n",
       "      <td>199901</td>\n",
       "      <td>16-25</td>\n",
       "      <td>female</td>\n",
       "      <td>majority</td>\n",
       "      <td>0-9y</td>\n",
       "      <td>high_school</td>\n",
       "      <td>working_class</td>\n",
       "      <td>0.493146</td>\n",
       "      <td>1.0</td>\n",
       "      <td>before_2015</td>\n",
       "      <td>0.0</td>\n",
       "      <td>0.0</td>\n",
       "      <td>10238</td>\n",
       "      <td>11000.0</td>\n",
       "      <td>sedan</td>\n",
       "      <td>0</td>\n",
       "      <td>0</td>\n",
       "      <td>0</td>\n",
       "      <td>0.0</td>\n",
       "    </tr>\n",
       "    <tr>\n",
       "      <th>3</th>\n",
       "      <td>478866</td>\n",
       "      <td>16-25</td>\n",
       "      <td>male</td>\n",
       "      <td>majority</td>\n",
       "      <td>0-9y</td>\n",
       "      <td>university</td>\n",
       "      <td>working_class</td>\n",
       "      <td>0.206013</td>\n",
       "      <td>1.0</td>\n",
       "      <td>before_2015</td>\n",
       "      <td>0.0</td>\n",
       "      <td>1.0</td>\n",
       "      <td>32765</td>\n",
       "      <td>11000.0</td>\n",
       "      <td>sedan</td>\n",
       "      <td>0</td>\n",
       "      <td>0</td>\n",
       "      <td>0</td>\n",
       "      <td>0.0</td>\n",
       "    </tr>\n",
       "    <tr>\n",
       "      <th>4</th>\n",
       "      <td>731664</td>\n",
       "      <td>26-39</td>\n",
       "      <td>male</td>\n",
       "      <td>majority</td>\n",
       "      <td>10-19y</td>\n",
       "      <td>none</td>\n",
       "      <td>working_class</td>\n",
       "      <td>0.388366</td>\n",
       "      <td>1.0</td>\n",
       "      <td>before_2015</td>\n",
       "      <td>0.0</td>\n",
       "      <td>0.0</td>\n",
       "      <td>32765</td>\n",
       "      <td>12000.0</td>\n",
       "      <td>sedan</td>\n",
       "      <td>2</td>\n",
       "      <td>0</td>\n",
       "      <td>1</td>\n",
       "      <td>1.0</td>\n",
       "    </tr>\n",
       "    <tr>\n",
       "      <th>...</th>\n",
       "      <td>...</td>\n",
       "      <td>...</td>\n",
       "      <td>...</td>\n",
       "      <td>...</td>\n",
       "      <td>...</td>\n",
       "      <td>...</td>\n",
       "      <td>...</td>\n",
       "      <td>...</td>\n",
       "      <td>...</td>\n",
       "      <td>...</td>\n",
       "      <td>...</td>\n",
       "      <td>...</td>\n",
       "      <td>...</td>\n",
       "      <td>...</td>\n",
       "      <td>...</td>\n",
       "      <td>...</td>\n",
       "      <td>...</td>\n",
       "      <td>...</td>\n",
       "      <td>...</td>\n",
       "    </tr>\n",
       "    <tr>\n",
       "      <th>9995</th>\n",
       "      <td>323164</td>\n",
       "      <td>26-39</td>\n",
       "      <td>female</td>\n",
       "      <td>majority</td>\n",
       "      <td>10-19y</td>\n",
       "      <td>university</td>\n",
       "      <td>upper_class</td>\n",
       "      <td>0.582787</td>\n",
       "      <td>1.0</td>\n",
       "      <td>before_2015</td>\n",
       "      <td>0.0</td>\n",
       "      <td>0.0</td>\n",
       "      <td>10238</td>\n",
       "      <td>16000.0</td>\n",
       "      <td>sedan</td>\n",
       "      <td>0</td>\n",
       "      <td>0</td>\n",
       "      <td>1</td>\n",
       "      <td>0.0</td>\n",
       "    </tr>\n",
       "    <tr>\n",
       "      <th>9996</th>\n",
       "      <td>910346</td>\n",
       "      <td>26-39</td>\n",
       "      <td>female</td>\n",
       "      <td>majority</td>\n",
       "      <td>10-19y</td>\n",
       "      <td>none</td>\n",
       "      <td>middle_class</td>\n",
       "      <td>0.522231</td>\n",
       "      <td>1.0</td>\n",
       "      <td>after_2015</td>\n",
       "      <td>0.0</td>\n",
       "      <td>1.0</td>\n",
       "      <td>32765</td>\n",
       "      <td>NaN</td>\n",
       "      <td>sedan</td>\n",
       "      <td>1</td>\n",
       "      <td>0</td>\n",
       "      <td>0</td>\n",
       "      <td>0.0</td>\n",
       "    </tr>\n",
       "    <tr>\n",
       "      <th>9997</th>\n",
       "      <td>468409</td>\n",
       "      <td>26-39</td>\n",
       "      <td>male</td>\n",
       "      <td>majority</td>\n",
       "      <td>0-9y</td>\n",
       "      <td>high_school</td>\n",
       "      <td>middle_class</td>\n",
       "      <td>0.470940</td>\n",
       "      <td>1.0</td>\n",
       "      <td>before_2015</td>\n",
       "      <td>0.0</td>\n",
       "      <td>1.0</td>\n",
       "      <td>10238</td>\n",
       "      <td>14000.0</td>\n",
       "      <td>sedan</td>\n",
       "      <td>0</td>\n",
       "      <td>0</td>\n",
       "      <td>0</td>\n",
       "      <td>0.0</td>\n",
       "    </tr>\n",
       "    <tr>\n",
       "      <th>9998</th>\n",
       "      <td>903459</td>\n",
       "      <td>26-39</td>\n",
       "      <td>female</td>\n",
       "      <td>majority</td>\n",
       "      <td>10-19y</td>\n",
       "      <td>high_school</td>\n",
       "      <td>poverty</td>\n",
       "      <td>0.364185</td>\n",
       "      <td>0.0</td>\n",
       "      <td>before_2015</td>\n",
       "      <td>0.0</td>\n",
       "      <td>1.0</td>\n",
       "      <td>10238</td>\n",
       "      <td>13000.0</td>\n",
       "      <td>sedan</td>\n",
       "      <td>2</td>\n",
       "      <td>0</td>\n",
       "      <td>1</td>\n",
       "      <td>1.0</td>\n",
       "    </tr>\n",
       "    <tr>\n",
       "      <th>9999</th>\n",
       "      <td>442696</td>\n",
       "      <td>26-39</td>\n",
       "      <td>female</td>\n",
       "      <td>majority</td>\n",
       "      <td>0-9y</td>\n",
       "      <td>none</td>\n",
       "      <td>working_class</td>\n",
       "      <td>0.435225</td>\n",
       "      <td>1.0</td>\n",
       "      <td>before_2015</td>\n",
       "      <td>1.0</td>\n",
       "      <td>1.0</td>\n",
       "      <td>10238</td>\n",
       "      <td>13000.0</td>\n",
       "      <td>sedan</td>\n",
       "      <td>0</td>\n",
       "      <td>0</td>\n",
       "      <td>0</td>\n",
       "      <td>0.0</td>\n",
       "    </tr>\n",
       "  </tbody>\n",
       "</table>\n",
       "<p>10000 rows × 19 columns</p>\n",
       "</div>"
      ],
      "text/plain": [
       "          ID    AGE  GENDER      RACE DRIVING_EXPERIENCE    EDUCATION  \\\n",
       "0     569520    65+  female  majority               0-9y  high_school   \n",
       "1     750365  16-25    male  majority               0-9y         none   \n",
       "2     199901  16-25  female  majority               0-9y  high_school   \n",
       "3     478866  16-25    male  majority               0-9y   university   \n",
       "4     731664  26-39    male  majority             10-19y         none   \n",
       "...      ...    ...     ...       ...                ...          ...   \n",
       "9995  323164  26-39  female  majority             10-19y   university   \n",
       "9996  910346  26-39  female  majority             10-19y         none   \n",
       "9997  468409  26-39    male  majority               0-9y  high_school   \n",
       "9998  903459  26-39  female  majority             10-19y  high_school   \n",
       "9999  442696  26-39  female  majority               0-9y         none   \n",
       "\n",
       "             INCOME  CREDIT_SCORE  VEHICLE_OWNERSHIP VEHICLE_YEAR  MARRIED  \\\n",
       "0       upper_class      0.629027                1.0   after_2015      0.0   \n",
       "1           poverty      0.357757                0.0  before_2015      0.0   \n",
       "2     working_class      0.493146                1.0  before_2015      0.0   \n",
       "3     working_class      0.206013                1.0  before_2015      0.0   \n",
       "4     working_class      0.388366                1.0  before_2015      0.0   \n",
       "...             ...           ...                ...          ...      ...   \n",
       "9995    upper_class      0.582787                1.0  before_2015      0.0   \n",
       "9996   middle_class      0.522231                1.0   after_2015      0.0   \n",
       "9997   middle_class      0.470940                1.0  before_2015      0.0   \n",
       "9998        poverty      0.364185                0.0  before_2015      0.0   \n",
       "9999  working_class      0.435225                1.0  before_2015      1.0   \n",
       "\n",
       "      CHILDREN  POSTAL_CODE  ANNUAL_MILEAGE VEHICLE_TYPE  SPEEDING_VIOLATIONS  \\\n",
       "0          1.0        10238         12000.0        sedan                    0   \n",
       "1          0.0        10238         16000.0        sedan                    0   \n",
       "2          0.0        10238         11000.0        sedan                    0   \n",
       "3          1.0        32765         11000.0        sedan                    0   \n",
       "4          0.0        32765         12000.0        sedan                    2   \n",
       "...        ...          ...             ...          ...                  ...   \n",
       "9995       0.0        10238         16000.0        sedan                    0   \n",
       "9996       1.0        32765             NaN        sedan                    1   \n",
       "9997       1.0        10238         14000.0        sedan                    0   \n",
       "9998       1.0        10238         13000.0        sedan                    2   \n",
       "9999       1.0        10238         13000.0        sedan                    0   \n",
       "\n",
       "      DUIS  PAST_ACCIDENTS  OUTCOME  \n",
       "0        0               0      0.0  \n",
       "1        0               0      1.0  \n",
       "2        0               0      0.0  \n",
       "3        0               0      0.0  \n",
       "4        0               1      1.0  \n",
       "...    ...             ...      ...  \n",
       "9995     0               1      0.0  \n",
       "9996     0               0      0.0  \n",
       "9997     0               0      0.0  \n",
       "9998     0               1      1.0  \n",
       "9999     0               0      0.0  \n",
       "\n",
       "[10000 rows x 19 columns]"
      ]
     },
     "execution_count": 19,
     "metadata": {},
     "output_type": "execute_result"
    }
   ],
   "source": [
    "data=data.replace(\" \",np.NaN)\n",
    "data"
   ]
  },
  {
   "cell_type": "code",
   "execution_count": 20,
   "id": "64927100",
   "metadata": {},
   "outputs": [
    {
     "name": "stdout",
     "output_type": "stream",
     "text": [
      "982\n"
     ]
    }
   ],
   "source": [
    "print(data['CREDIT_SCORE'].isnull().sum())"
   ]
  },
  {
   "cell_type": "code",
   "execution_count": 21,
   "id": "f4ccdf0a",
   "metadata": {},
   "outputs": [],
   "source": [
    "# Replace NaN values in the 'CREDIT_SCORE' column with the median\n",
    "median_credit_score = data['CREDIT_SCORE'].median()\n",
    "data['CREDIT_SCORE'].fillna(median_credit_score, inplace=True)"
   ]
  },
  {
   "cell_type": "code",
   "execution_count": 22,
   "id": "5aff6148",
   "metadata": {},
   "outputs": [
    {
     "data": {
      "text/plain": [
       "0.5250327586154788"
      ]
     },
     "execution_count": 22,
     "metadata": {},
     "output_type": "execute_result"
    }
   ],
   "source": [
    "median_credit_score"
   ]
  },
  {
   "cell_type": "code",
   "execution_count": 23,
   "id": "f59bb607",
   "metadata": {},
   "outputs": [
    {
     "data": {
      "text/plain": [
       "0       0.629027\n",
       "1       0.357757\n",
       "2       0.493146\n",
       "3       0.206013\n",
       "4       0.388366\n",
       "          ...   \n",
       "9995    0.582787\n",
       "9996    0.522231\n",
       "9997    0.470940\n",
       "9998    0.364185\n",
       "9999    0.435225\n",
       "Name: CREDIT_SCORE, Length: 10000, dtype: float64"
      ]
     },
     "execution_count": 23,
     "metadata": {},
     "output_type": "execute_result"
    }
   ],
   "source": [
    "data['CREDIT_SCORE']"
   ]
  },
  {
   "cell_type": "code",
   "execution_count": 24,
   "id": "9fd0d19d",
   "metadata": {},
   "outputs": [],
   "source": [
    "# Replace NaN values in the 'ANNUAL_MILEAGE' column with the median\n",
    "median_ANNUAL_MILEAGE = data['ANNUAL_MILEAGE'].median()\n",
    "data['ANNUAL_MILEAGE'].fillna(median_ANNUAL_MILEAGE, inplace=True)"
   ]
  },
  {
   "cell_type": "code",
   "execution_count": 25,
   "id": "6a1c1ee5",
   "metadata": {},
   "outputs": [
    {
     "data": {
      "text/plain": [
       "12000.0"
      ]
     },
     "execution_count": 25,
     "metadata": {},
     "output_type": "execute_result"
    }
   ],
   "source": [
    "median_ANNUAL_MILEAGE"
   ]
  },
  {
   "cell_type": "code",
   "execution_count": 26,
   "id": "fa024bef",
   "metadata": {},
   "outputs": [
    {
     "name": "stdout",
     "output_type": "stream",
     "text": [
      "ID                     0\n",
      "AGE                    0\n",
      "GENDER                 0\n",
      "RACE                   0\n",
      "DRIVING_EXPERIENCE     0\n",
      "EDUCATION              0\n",
      "INCOME                 0\n",
      "CREDIT_SCORE           0\n",
      "VEHICLE_OWNERSHIP      0\n",
      "VEHICLE_YEAR           0\n",
      "MARRIED                0\n",
      "CHILDREN               0\n",
      "POSTAL_CODE            0\n",
      "ANNUAL_MILEAGE         0\n",
      "VEHICLE_TYPE           0\n",
      "SPEEDING_VIOLATIONS    0\n",
      "DUIS                   0\n",
      "PAST_ACCIDENTS         0\n",
      "OUTCOME                0\n",
      "dtype: int64\n"
     ]
    }
   ],
   "source": [
    "# Confirm there are no more missing values\n",
    "print(data.isnull().sum())"
   ]
  },
  {
   "cell_type": "markdown",
   "id": "9405fbd6",
   "metadata": {},
   "source": [
    "There is no missing or null values in the dataset"
   ]
  },
  {
   "cell_type": "code",
   "execution_count": 27,
   "id": "5c58b21a",
   "metadata": {},
   "outputs": [],
   "source": [
    "# Drop the 'ID' column\n",
    "data = data.drop('ID', axis=1)"
   ]
  },
  {
   "cell_type": "code",
   "execution_count": 28,
   "id": "c5a6ae99",
   "metadata": {},
   "outputs": [
    {
     "data": {
      "text/html": [
       "<div>\n",
       "<style scoped>\n",
       "    .dataframe tbody tr th:only-of-type {\n",
       "        vertical-align: middle;\n",
       "    }\n",
       "\n",
       "    .dataframe tbody tr th {\n",
       "        vertical-align: top;\n",
       "    }\n",
       "\n",
       "    .dataframe thead th {\n",
       "        text-align: right;\n",
       "    }\n",
       "</style>\n",
       "<table border=\"1\" class=\"dataframe\">\n",
       "  <thead>\n",
       "    <tr style=\"text-align: right;\">\n",
       "      <th></th>\n",
       "      <th>CREDIT_SCORE</th>\n",
       "      <th>VEHICLE_OWNERSHIP</th>\n",
       "      <th>MARRIED</th>\n",
       "      <th>CHILDREN</th>\n",
       "      <th>POSTAL_CODE</th>\n",
       "      <th>ANNUAL_MILEAGE</th>\n",
       "      <th>SPEEDING_VIOLATIONS</th>\n",
       "      <th>DUIS</th>\n",
       "      <th>PAST_ACCIDENTS</th>\n",
       "      <th>OUTCOME</th>\n",
       "    </tr>\n",
       "  </thead>\n",
       "  <tbody>\n",
       "    <tr>\n",
       "      <th>count</th>\n",
       "      <td>10000.000000</td>\n",
       "      <td>10000.000000</td>\n",
       "      <td>10000.000000</td>\n",
       "      <td>10000.000000</td>\n",
       "      <td>10000.000000</td>\n",
       "      <td>10000.000000</td>\n",
       "      <td>10000.000000</td>\n",
       "      <td>10000.00000</td>\n",
       "      <td>10000.000000</td>\n",
       "      <td>10000.000000</td>\n",
       "    </tr>\n",
       "    <tr>\n",
       "      <th>mean</th>\n",
       "      <td>0.516718</td>\n",
       "      <td>0.697000</td>\n",
       "      <td>0.498200</td>\n",
       "      <td>0.688800</td>\n",
       "      <td>19864.548400</td>\n",
       "      <td>11726.000000</td>\n",
       "      <td>1.482900</td>\n",
       "      <td>0.23920</td>\n",
       "      <td>1.056300</td>\n",
       "      <td>0.313300</td>\n",
       "    </tr>\n",
       "    <tr>\n",
       "      <th>std</th>\n",
       "      <td>0.130781</td>\n",
       "      <td>0.459578</td>\n",
       "      <td>0.500022</td>\n",
       "      <td>0.463008</td>\n",
       "      <td>18915.613855</td>\n",
       "      <td>2681.649329</td>\n",
       "      <td>2.241966</td>\n",
       "      <td>0.55499</td>\n",
       "      <td>1.652454</td>\n",
       "      <td>0.463858</td>\n",
       "    </tr>\n",
       "    <tr>\n",
       "      <th>min</th>\n",
       "      <td>0.053358</td>\n",
       "      <td>0.000000</td>\n",
       "      <td>0.000000</td>\n",
       "      <td>0.000000</td>\n",
       "      <td>10238.000000</td>\n",
       "      <td>2000.000000</td>\n",
       "      <td>0.000000</td>\n",
       "      <td>0.00000</td>\n",
       "      <td>0.000000</td>\n",
       "      <td>0.000000</td>\n",
       "    </tr>\n",
       "    <tr>\n",
       "      <th>25%</th>\n",
       "      <td>0.431509</td>\n",
       "      <td>0.000000</td>\n",
       "      <td>0.000000</td>\n",
       "      <td>0.000000</td>\n",
       "      <td>10238.000000</td>\n",
       "      <td>10000.000000</td>\n",
       "      <td>0.000000</td>\n",
       "      <td>0.00000</td>\n",
       "      <td>0.000000</td>\n",
       "      <td>0.000000</td>\n",
       "    </tr>\n",
       "    <tr>\n",
       "      <th>50%</th>\n",
       "      <td>0.525033</td>\n",
       "      <td>1.000000</td>\n",
       "      <td>0.000000</td>\n",
       "      <td>1.000000</td>\n",
       "      <td>10238.000000</td>\n",
       "      <td>12000.000000</td>\n",
       "      <td>0.000000</td>\n",
       "      <td>0.00000</td>\n",
       "      <td>0.000000</td>\n",
       "      <td>0.000000</td>\n",
       "    </tr>\n",
       "    <tr>\n",
       "      <th>75%</th>\n",
       "      <td>0.607607</td>\n",
       "      <td>1.000000</td>\n",
       "      <td>1.000000</td>\n",
       "      <td>1.000000</td>\n",
       "      <td>32765.000000</td>\n",
       "      <td>13000.000000</td>\n",
       "      <td>2.000000</td>\n",
       "      <td>0.00000</td>\n",
       "      <td>2.000000</td>\n",
       "      <td>1.000000</td>\n",
       "    </tr>\n",
       "    <tr>\n",
       "      <th>max</th>\n",
       "      <td>0.960819</td>\n",
       "      <td>1.000000</td>\n",
       "      <td>1.000000</td>\n",
       "      <td>1.000000</td>\n",
       "      <td>92101.000000</td>\n",
       "      <td>22000.000000</td>\n",
       "      <td>22.000000</td>\n",
       "      <td>6.00000</td>\n",
       "      <td>15.000000</td>\n",
       "      <td>1.000000</td>\n",
       "    </tr>\n",
       "  </tbody>\n",
       "</table>\n",
       "</div>"
      ],
      "text/plain": [
       "       CREDIT_SCORE  VEHICLE_OWNERSHIP       MARRIED      CHILDREN  \\\n",
       "count  10000.000000       10000.000000  10000.000000  10000.000000   \n",
       "mean       0.516718           0.697000      0.498200      0.688800   \n",
       "std        0.130781           0.459578      0.500022      0.463008   \n",
       "min        0.053358           0.000000      0.000000      0.000000   \n",
       "25%        0.431509           0.000000      0.000000      0.000000   \n",
       "50%        0.525033           1.000000      0.000000      1.000000   \n",
       "75%        0.607607           1.000000      1.000000      1.000000   \n",
       "max        0.960819           1.000000      1.000000      1.000000   \n",
       "\n",
       "        POSTAL_CODE  ANNUAL_MILEAGE  SPEEDING_VIOLATIONS         DUIS  \\\n",
       "count  10000.000000    10000.000000         10000.000000  10000.00000   \n",
       "mean   19864.548400    11726.000000             1.482900      0.23920   \n",
       "std    18915.613855     2681.649329             2.241966      0.55499   \n",
       "min    10238.000000     2000.000000             0.000000      0.00000   \n",
       "25%    10238.000000    10000.000000             0.000000      0.00000   \n",
       "50%    10238.000000    12000.000000             0.000000      0.00000   \n",
       "75%    32765.000000    13000.000000             2.000000      0.00000   \n",
       "max    92101.000000    22000.000000            22.000000      6.00000   \n",
       "\n",
       "       PAST_ACCIDENTS       OUTCOME  \n",
       "count    10000.000000  10000.000000  \n",
       "mean         1.056300      0.313300  \n",
       "std          1.652454      0.463858  \n",
       "min          0.000000      0.000000  \n",
       "25%          0.000000      0.000000  \n",
       "50%          0.000000      0.000000  \n",
       "75%          2.000000      1.000000  \n",
       "max         15.000000      1.000000  "
      ]
     },
     "execution_count": 28,
     "metadata": {},
     "output_type": "execute_result"
    }
   ],
   "source": [
    "data.describe()"
   ]
  },
  {
   "cell_type": "code",
   "execution_count": 29,
   "id": "b9b01968",
   "metadata": {},
   "outputs": [
    {
     "data": {
      "text/html": [
       "<div>\n",
       "<style scoped>\n",
       "    .dataframe tbody tr th:only-of-type {\n",
       "        vertical-align: middle;\n",
       "    }\n",
       "\n",
       "    .dataframe tbody tr th {\n",
       "        vertical-align: top;\n",
       "    }\n",
       "\n",
       "    .dataframe thead th {\n",
       "        text-align: right;\n",
       "    }\n",
       "</style>\n",
       "<table border=\"1\" class=\"dataframe\">\n",
       "  <thead>\n",
       "    <tr style=\"text-align: right;\">\n",
       "      <th></th>\n",
       "      <th>AGE</th>\n",
       "      <th>GENDER</th>\n",
       "      <th>RACE</th>\n",
       "      <th>DRIVING_EXPERIENCE</th>\n",
       "      <th>EDUCATION</th>\n",
       "      <th>INCOME</th>\n",
       "      <th>VEHICLE_YEAR</th>\n",
       "      <th>VEHICLE_TYPE</th>\n",
       "    </tr>\n",
       "  </thead>\n",
       "  <tbody>\n",
       "    <tr>\n",
       "      <th>count</th>\n",
       "      <td>10000</td>\n",
       "      <td>10000</td>\n",
       "      <td>10000</td>\n",
       "      <td>10000</td>\n",
       "      <td>10000</td>\n",
       "      <td>10000</td>\n",
       "      <td>10000</td>\n",
       "      <td>10000</td>\n",
       "    </tr>\n",
       "    <tr>\n",
       "      <th>unique</th>\n",
       "      <td>4</td>\n",
       "      <td>2</td>\n",
       "      <td>2</td>\n",
       "      <td>4</td>\n",
       "      <td>3</td>\n",
       "      <td>4</td>\n",
       "      <td>2</td>\n",
       "      <td>2</td>\n",
       "    </tr>\n",
       "    <tr>\n",
       "      <th>top</th>\n",
       "      <td>26-39</td>\n",
       "      <td>female</td>\n",
       "      <td>majority</td>\n",
       "      <td>0-9y</td>\n",
       "      <td>high_school</td>\n",
       "      <td>upper_class</td>\n",
       "      <td>before_2015</td>\n",
       "      <td>sedan</td>\n",
       "    </tr>\n",
       "    <tr>\n",
       "      <th>freq</th>\n",
       "      <td>3063</td>\n",
       "      <td>5010</td>\n",
       "      <td>9012</td>\n",
       "      <td>3530</td>\n",
       "      <td>4157</td>\n",
       "      <td>4336</td>\n",
       "      <td>6967</td>\n",
       "      <td>9523</td>\n",
       "    </tr>\n",
       "  </tbody>\n",
       "</table>\n",
       "</div>"
      ],
      "text/plain": [
       "          AGE  GENDER      RACE DRIVING_EXPERIENCE    EDUCATION       INCOME  \\\n",
       "count   10000   10000     10000              10000        10000        10000   \n",
       "unique      4       2         2                  4            3            4   \n",
       "top     26-39  female  majority               0-9y  high_school  upper_class   \n",
       "freq     3063    5010      9012               3530         4157         4336   \n",
       "\n",
       "       VEHICLE_YEAR VEHICLE_TYPE  \n",
       "count         10000        10000  \n",
       "unique            2            2  \n",
       "top     before_2015        sedan  \n",
       "freq           6967         9523  "
      ]
     },
     "execution_count": 29,
     "metadata": {},
     "output_type": "execute_result"
    }
   ],
   "source": [
    "data.describe(include=\"object\")"
   ]
  },
  {
   "cell_type": "markdown",
   "id": "3af74df4",
   "metadata": {},
   "source": [
    "# Data Visualization"
   ]
  },
  {
   "cell_type": "markdown",
   "id": "ffc2646b",
   "metadata": {},
   "source": [
    "# Get to know the value counts of each value/comparision in the dataset¶"
   ]
  },
  {
   "cell_type": "code",
   "execution_count": 30,
   "id": "aa88da87",
   "metadata": {},
   "outputs": [
    {
     "data": {
      "image/png": "[encoded data removed]",
      "text/plain": [
       "<Figure size 640x480 with 1 Axes>"
      ]
     },
     "metadata": {},
     "output_type": "display_data"
    }
   ],
   "source": [
    "##Graph 1: Bar chart of age distribution\n",
    "age_counts = data['AGE'].value_counts().sort_index()\n",
    "plt.bar(age_counts.index, age_counts.values)\n",
    "plt.xlabel('Age')\n",
    "plt.ylabel('Count')\n",
    "plt.title('Age Distribution')\n",
    "plt.show()"
   ]
  },
  {
   "cell_type": "markdown",
   "id": "461f29fc",
   "metadata": {},
   "source": [
    "Interpretation\n",
    "\n",
    "The graph showing the age distribution of the individuals in the dataset. \n",
    "It counts the number of individuals in each age group and displays the count on the y-axis."
   ]
  },
  {
   "cell_type": "code",
   "execution_count": 31,
   "id": "41fcc481",
   "metadata": {},
   "outputs": [
    {
     "data": {
      "image/png": "[encoded data removed]",
      "text/plain": [
       "<Figure size 640x480 with 1 Axes>"
      ]
     },
     "metadata": {},
     "output_type": "display_data"
    }
   ],
   "source": [
    "# Graph 2: Pie chart of gender distribution\n",
    "gender_counts = data['GENDER'].value_counts()\n",
    "plt.pie(gender_counts.values, labels=gender_counts.index, autopct='%1.1f%%')\n",
    "plt.title('Gender Distribution')\n",
    "plt.show()"
   ]
  },
  {
   "cell_type": "markdown",
   "id": "bebaffb7",
   "metadata": {},
   "source": [
    "Interpretation\n",
    "\n",
    "The graph is a pie chart illustrating the gender distribution of the individuals in the dataset.\n",
    "It calculates the percentage of males and females and displays it as a pie chart."
   ]
  },
  {
   "cell_type": "code",
   "execution_count": 32,
   "id": "3ea0c8ac",
   "metadata": {},
   "outputs": [
    {
     "data": {
      "image/png": "[encoded data removed]",
      "text/plain": [
       "<Figure size 640x480 with 1 Axes>"
      ]
     },
     "metadata": {},
     "output_type": "display_data"
    }
   ],
   "source": [
    "#Graph 3: Box plot of credit scores by gender\n",
    "plt.boxplot([data[data['GENDER'] == 'male']['CREDIT_SCORE'],\n",
    "             data[data['GENDER'] == 'female']['CREDIT_SCORE']],\n",
    "            labels=['Male', 'Female'])\n",
    "plt.xlabel('Gender')\n",
    "plt.ylabel('Credit Score')\n",
    "plt.title('Credit Score Distribution by Gender')\n",
    "plt.show()"
   ]
  },
  {
   "cell_type": "markdown",
   "id": "872a5443",
   "metadata": {},
   "source": [
    "Interpretation\n",
    "\n",
    "The graph is a box plot comparing the credit scores of males and females.\n",
    "It displays the distribution of credit scores for each gender, including the median, quartiles, and outliers."
   ]
  },
  {
   "cell_type": "code",
   "execution_count": 33,
   "id": "83dcd56c",
   "metadata": {},
   "outputs": [
    {
     "data": {
      "image/png": "[encoded data removed]",
      "text/plain": [
       "<Figure size 640x480 with 1 Axes>"
      ]
     },
     "metadata": {},
     "output_type": "display_data"
    }
   ],
   "source": [
    "# Graph 4: Line plot of speeding violations by driving experience\n",
    "driving_exp_counts = data['DRIVING_EXPERIENCE'].value_counts().sort_index()\n",
    "plt.plot(driving_exp_counts.index, driving_exp_counts.values)\n",
    "plt.xlabel('Driving Experience')\n",
    "plt.ylabel('Count')\n",
    "plt.title('Speeding Violations by Driving Experience')\n",
    "plt.show()"
   ]
  },
  {
   "cell_type": "markdown",
   "id": "53bca1a0",
   "metadata": {},
   "source": [
    "Interpretation\n",
    "\n",
    "The graph is a line plot showing the number of speeding violations for each driving experience category. \n",
    "It plots the count of speeding violations against different levels of driving experience."
   ]
  },
  {
   "cell_type": "code",
   "execution_count": 34,
   "id": "b25bc192",
   "metadata": {},
   "outputs": [
    {
     "data": {
      "image/png": "[encoded data removed]",
      "text/plain": [
       "<Figure size 640x480 with 1 Axes>"
      ]
     },
     "metadata": {},
     "output_type": "display_data"
    }
   ],
   "source": [
    "# Graph 5: Histogram of annual mileage\n",
    "plt.hist(data['ANNUAL_MILEAGE'], bins=20)\n",
    "plt.xlabel('Annual Mileage')\n",
    "plt.ylabel('Frequency')\n",
    "plt.title('Distribution of Annual Mileage')\n",
    "plt.show()"
   ]
  },
  {
   "cell_type": "markdown",
   "id": "b43ce06f",
   "metadata": {},
   "source": [
    "Interpretation\n",
    "\n",
    "The graph is a histogram that shows the distribution of the annual mileage of the vehicles.\n",
    "It divides the data into 20 bins and displays the frequency of vehicles falling into each bin."
   ]
  },
  {
   "cell_type": "code",
   "execution_count": 35,
   "id": "bb032f2e",
   "metadata": {},
   "outputs": [
    {
     "data": {
      "image/png": "[encoded data removed]",
      "text/plain": [
       "<Figure size 640x480 with 1 Axes>"
      ]
     },
     "metadata": {},
     "output_type": "display_data"
    }
   ],
   "source": [
    "# Graph 2: Scatter plot of age vs. credit score\n",
    "plt.scatter(data['AGE'], data['CREDIT_SCORE'])\n",
    "plt.xlabel('Age')\n",
    "plt.ylabel('Credit Score')\n",
    "plt.title('Age vs. Credit Score')\n",
    "plt.show()"
   ]
  },
  {
   "cell_type": "markdown",
   "id": "4072fef2",
   "metadata": {},
   "source": [
    "Interpretation\n",
    "\n",
    "The graph is a scatter plot that represents the relationship between age and credit score.\n",
    "Each data point represents an individual, and their age is plotted against their credit score."
   ]
  },
  {
   "cell_type": "code",
   "execution_count": 36,
   "id": "21bbb006",
   "metadata": {},
   "outputs": [
    {
     "data": {
      "image/png": "[encoded data removed]",
      "text/plain": [
       "<Figure size 640x480 with 1 Axes>"
      ]
     },
     "metadata": {},
     "output_type": "display_data"
    }
   ],
   "source": [
    "# Graph 3: Stacked bar chart of outcomes by gender\n",
    "outcomes_by_gender = data.groupby(['GENDER', 'OUTCOME']).size().unstack()\n",
    "outcomes_by_gender.plot(kind='bar', stacked=True)\n",
    "plt.xlabel('Gender')\n",
    "plt.ylabel('Count')\n",
    "plt.title('Outcomes by Gender')\n",
    "plt.show()"
   ]
  },
  {
   "cell_type": "markdown",
   "id": "34afda84",
   "metadata": {},
   "source": [
    "Interpretation\n",
    "\n",
    "The graph is a stacked bar chart that illustrates the outcomes of car insurance claims for each gender. \n",
    "It shows the count of different outcomes (e.g., 0 or 1) for male and female policyholders."
   ]
  },
  {
   "cell_type": "code",
   "execution_count": 37,
   "id": "01135cb3",
   "metadata": {},
   "outputs": [
    {
     "data": {
      "image/png": "[encoded data removed]",
      "text/plain": [
       "<Figure size 1000x600 with 1 Axes>"
      ]
     },
     "metadata": {},
     "output_type": "display_data"
    }
   ],
   "source": [
    "# Scatter plot\n",
    "plt.figure(figsize=(10, 6))\n",
    "plt.scatter(data['AGE'], data['INCOME'])\n",
    "plt.xlabel('Age')\n",
    "plt.ylabel('Income')\n",
    "plt.title('Scatter Plot of Age vs. Income')\n",
    "plt.show()"
   ]
  },
  {
   "cell_type": "code",
   "execution_count": 38,
   "id": "842b5f05",
   "metadata": {},
   "outputs": [],
   "source": [
    "# Exclude non-numeric columns\n",
    "numeric_columns = data.select_dtypes(include=['int64', 'float64']).columns\n",
    "numeric_data = data[numeric_columns]\n"
   ]
  },
  {
   "cell_type": "code",
   "execution_count": 39,
   "id": "625d9224",
   "metadata": {},
   "outputs": [
    {
     "data": {
      "text/html": [
       "<div>\n",
       "<style scoped>\n",
       "    .dataframe tbody tr th:only-of-type {\n",
       "        vertical-align: middle;\n",
       "    }\n",
       "\n",
       "    .dataframe tbody tr th {\n",
       "        vertical-align: top;\n",
       "    }\n",
       "\n",
       "    .dataframe thead th {\n",
       "        text-align: right;\n",
       "    }\n",
       "</style>\n",
       "<table border=\"1\" class=\"dataframe\">\n",
       "  <thead>\n",
       "    <tr style=\"text-align: right;\">\n",
       "      <th></th>\n",
       "      <th>CREDIT_SCORE</th>\n",
       "      <th>VEHICLE_OWNERSHIP</th>\n",
       "      <th>MARRIED</th>\n",
       "      <th>CHILDREN</th>\n",
       "      <th>POSTAL_CODE</th>\n",
       "      <th>ANNUAL_MILEAGE</th>\n",
       "      <th>SPEEDING_VIOLATIONS</th>\n",
       "      <th>DUIS</th>\n",
       "      <th>PAST_ACCIDENTS</th>\n",
       "      <th>OUTCOME</th>\n",
       "    </tr>\n",
       "  </thead>\n",
       "  <tbody>\n",
       "    <tr>\n",
       "      <th>0</th>\n",
       "      <td>0.629027</td>\n",
       "      <td>1.0</td>\n",
       "      <td>0.0</td>\n",
       "      <td>1.0</td>\n",
       "      <td>10238</td>\n",
       "      <td>12000.0</td>\n",
       "      <td>0</td>\n",
       "      <td>0</td>\n",
       "      <td>0</td>\n",
       "      <td>0.0</td>\n",
       "    </tr>\n",
       "    <tr>\n",
       "      <th>1</th>\n",
       "      <td>0.357757</td>\n",
       "      <td>0.0</td>\n",
       "      <td>0.0</td>\n",
       "      <td>0.0</td>\n",
       "      <td>10238</td>\n",
       "      <td>16000.0</td>\n",
       "      <td>0</td>\n",
       "      <td>0</td>\n",
       "      <td>0</td>\n",
       "      <td>1.0</td>\n",
       "    </tr>\n",
       "    <tr>\n",
       "      <th>2</th>\n",
       "      <td>0.493146</td>\n",
       "      <td>1.0</td>\n",
       "      <td>0.0</td>\n",
       "      <td>0.0</td>\n",
       "      <td>10238</td>\n",
       "      <td>11000.0</td>\n",
       "      <td>0</td>\n",
       "      <td>0</td>\n",
       "      <td>0</td>\n",
       "      <td>0.0</td>\n",
       "    </tr>\n",
       "    <tr>\n",
       "      <th>3</th>\n",
       "      <td>0.206013</td>\n",
       "      <td>1.0</td>\n",
       "      <td>0.0</td>\n",
       "      <td>1.0</td>\n",
       "      <td>32765</td>\n",
       "      <td>11000.0</td>\n",
       "      <td>0</td>\n",
       "      <td>0</td>\n",
       "      <td>0</td>\n",
       "      <td>0.0</td>\n",
       "    </tr>\n",
       "    <tr>\n",
       "      <th>4</th>\n",
       "      <td>0.388366</td>\n",
       "      <td>1.0</td>\n",
       "      <td>0.0</td>\n",
       "      <td>0.0</td>\n",
       "      <td>32765</td>\n",
       "      <td>12000.0</td>\n",
       "      <td>2</td>\n",
       "      <td>0</td>\n",
       "      <td>1</td>\n",
       "      <td>1.0</td>\n",
       "    </tr>\n",
       "    <tr>\n",
       "      <th>...</th>\n",
       "      <td>...</td>\n",
       "      <td>...</td>\n",
       "      <td>...</td>\n",
       "      <td>...</td>\n",
       "      <td>...</td>\n",
       "      <td>...</td>\n",
       "      <td>...</td>\n",
       "      <td>...</td>\n",
       "      <td>...</td>\n",
       "      <td>...</td>\n",
       "    </tr>\n",
       "    <tr>\n",
       "      <th>9995</th>\n",
       "      <td>0.582787</td>\n",
       "      <td>1.0</td>\n",
       "      <td>0.0</td>\n",
       "      <td>0.0</td>\n",
       "      <td>10238</td>\n",
       "      <td>16000.0</td>\n",
       "      <td>0</td>\n",
       "      <td>0</td>\n",
       "      <td>1</td>\n",
       "      <td>0.0</td>\n",
       "    </tr>\n",
       "    <tr>\n",
       "      <th>9996</th>\n",
       "      <td>0.522231</td>\n",
       "      <td>1.0</td>\n",
       "      <td>0.0</td>\n",
       "      <td>1.0</td>\n",
       "      <td>32765</td>\n",
       "      <td>12000.0</td>\n",
       "      <td>1</td>\n",
       "      <td>0</td>\n",
       "      <td>0</td>\n",
       "      <td>0.0</td>\n",
       "    </tr>\n",
       "    <tr>\n",
       "      <th>9997</th>\n",
       "      <td>0.470940</td>\n",
       "      <td>1.0</td>\n",
       "      <td>0.0</td>\n",
       "      <td>1.0</td>\n",
       "      <td>10238</td>\n",
       "      <td>14000.0</td>\n",
       "      <td>0</td>\n",
       "      <td>0</td>\n",
       "      <td>0</td>\n",
       "      <td>0.0</td>\n",
       "    </tr>\n",
       "    <tr>\n",
       "      <th>9998</th>\n",
       "      <td>0.364185</td>\n",
       "      <td>0.0</td>\n",
       "      <td>0.0</td>\n",
       "      <td>1.0</td>\n",
       "      <td>10238</td>\n",
       "      <td>13000.0</td>\n",
       "      <td>2</td>\n",
       "      <td>0</td>\n",
       "      <td>1</td>\n",
       "      <td>1.0</td>\n",
       "    </tr>\n",
       "    <tr>\n",
       "      <th>9999</th>\n",
       "      <td>0.435225</td>\n",
       "      <td>1.0</td>\n",
       "      <td>1.0</td>\n",
       "      <td>1.0</td>\n",
       "      <td>10238</td>\n",
       "      <td>13000.0</td>\n",
       "      <td>0</td>\n",
       "      <td>0</td>\n",
       "      <td>0</td>\n",
       "      <td>0.0</td>\n",
       "    </tr>\n",
       "  </tbody>\n",
       "</table>\n",
       "<p>10000 rows × 10 columns</p>\n",
       "</div>"
      ],
      "text/plain": [
       "      CREDIT_SCORE  VEHICLE_OWNERSHIP  MARRIED  CHILDREN  POSTAL_CODE  \\\n",
       "0         0.629027                1.0      0.0       1.0        10238   \n",
       "1         0.357757                0.0      0.0       0.0        10238   \n",
       "2         0.493146                1.0      0.0       0.0        10238   \n",
       "3         0.206013                1.0      0.0       1.0        32765   \n",
       "4         0.388366                1.0      0.0       0.0        32765   \n",
       "...            ...                ...      ...       ...          ...   \n",
       "9995      0.582787                1.0      0.0       0.0        10238   \n",
       "9996      0.522231                1.0      0.0       1.0        32765   \n",
       "9997      0.470940                1.0      0.0       1.0        10238   \n",
       "9998      0.364185                0.0      0.0       1.0        10238   \n",
       "9999      0.435225                1.0      1.0       1.0        10238   \n",
       "\n",
       "      ANNUAL_MILEAGE  SPEEDING_VIOLATIONS  DUIS  PAST_ACCIDENTS  OUTCOME  \n",
       "0            12000.0                    0     0               0      0.0  \n",
       "1            16000.0                    0     0               0      1.0  \n",
       "2            11000.0                    0     0               0      0.0  \n",
       "3            11000.0                    0     0               0      0.0  \n",
       "4            12000.0                    2     0               1      1.0  \n",
       "...              ...                  ...   ...             ...      ...  \n",
       "9995         16000.0                    0     0               1      0.0  \n",
       "9996         12000.0                    1     0               0      0.0  \n",
       "9997         14000.0                    0     0               0      0.0  \n",
       "9998         13000.0                    2     0               1      1.0  \n",
       "9999         13000.0                    0     0               0      0.0  \n",
       "\n",
       "[10000 rows x 10 columns]"
      ]
     },
     "execution_count": 39,
     "metadata": {},
     "output_type": "execute_result"
    }
   ],
   "source": [
    "numeric_data"
   ]
  },
  {
   "cell_type": "code",
   "execution_count": 40,
   "id": "33ae4d18",
   "metadata": {},
   "outputs": [],
   "source": [
    "# Calculate the correlation matrix\n",
    "corr_matrix = numeric_data.corr()\n"
   ]
  },
  {
   "cell_type": "markdown",
   "id": "603f6c5e",
   "metadata": {},
   "source": [
    "# Correlation with OUTCOME"
   ]
  },
  {
   "cell_type": "code",
   "execution_count": 41,
   "id": "66872d31",
   "metadata": {},
   "outputs": [
    {
     "data": {
      "text/html": [
       "<div>\n",
       "<style scoped>\n",
       "    .dataframe tbody tr th:only-of-type {\n",
       "        vertical-align: middle;\n",
       "    }\n",
       "\n",
       "    .dataframe tbody tr th {\n",
       "        vertical-align: top;\n",
       "    }\n",
       "\n",
       "    .dataframe thead th {\n",
       "        text-align: right;\n",
       "    }\n",
       "</style>\n",
       "<table border=\"1\" class=\"dataframe\">\n",
       "  <thead>\n",
       "    <tr style=\"text-align: right;\">\n",
       "      <th></th>\n",
       "      <th>CREDIT_SCORE</th>\n",
       "      <th>VEHICLE_OWNERSHIP</th>\n",
       "      <th>MARRIED</th>\n",
       "      <th>CHILDREN</th>\n",
       "      <th>POSTAL_CODE</th>\n",
       "      <th>ANNUAL_MILEAGE</th>\n",
       "      <th>SPEEDING_VIOLATIONS</th>\n",
       "      <th>DUIS</th>\n",
       "      <th>PAST_ACCIDENTS</th>\n",
       "      <th>OUTCOME</th>\n",
       "    </tr>\n",
       "  </thead>\n",
       "  <tbody>\n",
       "    <tr>\n",
       "      <th>CREDIT_SCORE</th>\n",
       "      <td>1.000000</td>\n",
       "      <td>0.295310</td>\n",
       "      <td>0.266744</td>\n",
       "      <td>0.209448</td>\n",
       "      <td>0.008759</td>\n",
       "      <td>-0.157839</td>\n",
       "      <td>0.194658</td>\n",
       "      <td>0.120966</td>\n",
       "      <td>0.172008</td>\n",
       "      <td>-0.308998</td>\n",
       "    </tr>\n",
       "    <tr>\n",
       "      <th>VEHICLE_OWNERSHIP</th>\n",
       "      <td>0.295310</td>\n",
       "      <td>1.000000</td>\n",
       "      <td>0.175626</td>\n",
       "      <td>0.125990</td>\n",
       "      <td>-0.004866</td>\n",
       "      <td>-0.092527</td>\n",
       "      <td>0.133868</td>\n",
       "      <td>0.086567</td>\n",
       "      <td>0.119521</td>\n",
       "      <td>-0.378921</td>\n",
       "    </tr>\n",
       "    <tr>\n",
       "      <th>MARRIED</th>\n",
       "      <td>0.266744</td>\n",
       "      <td>0.175626</td>\n",
       "      <td>1.000000</td>\n",
       "      <td>0.287009</td>\n",
       "      <td>0.012045</td>\n",
       "      <td>-0.439227</td>\n",
       "      <td>0.218855</td>\n",
       "      <td>0.120840</td>\n",
       "      <td>0.215269</td>\n",
       "      <td>-0.262104</td>\n",
       "    </tr>\n",
       "    <tr>\n",
       "      <th>CHILDREN</th>\n",
       "      <td>0.209448</td>\n",
       "      <td>0.125990</td>\n",
       "      <td>0.287009</td>\n",
       "      <td>1.000000</td>\n",
       "      <td>0.020911</td>\n",
       "      <td>-0.425509</td>\n",
       "      <td>0.220415</td>\n",
       "      <td>0.115354</td>\n",
       "      <td>0.206295</td>\n",
       "      <td>-0.232835</td>\n",
       "    </tr>\n",
       "    <tr>\n",
       "      <th>POSTAL_CODE</th>\n",
       "      <td>0.008759</td>\n",
       "      <td>-0.004866</td>\n",
       "      <td>0.012045</td>\n",
       "      <td>0.020911</td>\n",
       "      <td>1.000000</td>\n",
       "      <td>-0.126802</td>\n",
       "      <td>0.113686</td>\n",
       "      <td>0.038492</td>\n",
       "      <td>-0.116985</td>\n",
       "      <td>0.095889</td>\n",
       "    </tr>\n",
       "    <tr>\n",
       "      <th>ANNUAL_MILEAGE</th>\n",
       "      <td>-0.157839</td>\n",
       "      <td>-0.092527</td>\n",
       "      <td>-0.439227</td>\n",
       "      <td>-0.425509</td>\n",
       "      <td>-0.126802</td>\n",
       "      <td>1.000000</td>\n",
       "      <td>-0.308303</td>\n",
       "      <td>-0.111454</td>\n",
       "      <td>-0.187678</td>\n",
       "      <td>0.178041</td>\n",
       "    </tr>\n",
       "    <tr>\n",
       "      <th>SPEEDING_VIOLATIONS</th>\n",
       "      <td>0.194658</td>\n",
       "      <td>0.133868</td>\n",
       "      <td>0.218855</td>\n",
       "      <td>0.220415</td>\n",
       "      <td>0.113686</td>\n",
       "      <td>-0.308303</td>\n",
       "      <td>1.000000</td>\n",
       "      <td>0.359838</td>\n",
       "      <td>0.443074</td>\n",
       "      <td>-0.291862</td>\n",
       "    </tr>\n",
       "    <tr>\n",
       "      <th>DUIS</th>\n",
       "      <td>0.120966</td>\n",
       "      <td>0.086567</td>\n",
       "      <td>0.120840</td>\n",
       "      <td>0.115354</td>\n",
       "      <td>0.038492</td>\n",
       "      <td>-0.111454</td>\n",
       "      <td>0.359838</td>\n",
       "      <td>1.000000</td>\n",
       "      <td>0.259359</td>\n",
       "      <td>-0.189352</td>\n",
       "    </tr>\n",
       "    <tr>\n",
       "      <th>PAST_ACCIDENTS</th>\n",
       "      <td>0.172008</td>\n",
       "      <td>0.119521</td>\n",
       "      <td>0.215269</td>\n",
       "      <td>0.206295</td>\n",
       "      <td>-0.116985</td>\n",
       "      <td>-0.187678</td>\n",
       "      <td>0.443074</td>\n",
       "      <td>0.259359</td>\n",
       "      <td>1.000000</td>\n",
       "      <td>-0.311495</td>\n",
       "    </tr>\n",
       "    <tr>\n",
       "      <th>OUTCOME</th>\n",
       "      <td>-0.308998</td>\n",
       "      <td>-0.378921</td>\n",
       "      <td>-0.262104</td>\n",
       "      <td>-0.232835</td>\n",
       "      <td>0.095889</td>\n",
       "      <td>0.178041</td>\n",
       "      <td>-0.291862</td>\n",
       "      <td>-0.189352</td>\n",
       "      <td>-0.311495</td>\n",
       "      <td>1.000000</td>\n",
       "    </tr>\n",
       "  </tbody>\n",
       "</table>\n",
       "</div>"
      ],
      "text/plain": [
       "                     CREDIT_SCORE  VEHICLE_OWNERSHIP   MARRIED  CHILDREN  \\\n",
       "CREDIT_SCORE             1.000000           0.295310  0.266744  0.209448   \n",
       "VEHICLE_OWNERSHIP        0.295310           1.000000  0.175626  0.125990   \n",
       "MARRIED                  0.266744           0.175626  1.000000  0.287009   \n",
       "CHILDREN                 0.209448           0.125990  0.287009  1.000000   \n",
       "POSTAL_CODE              0.008759          -0.004866  0.012045  0.020911   \n",
       "ANNUAL_MILEAGE          -0.157839          -0.092527 -0.439227 -0.425509   \n",
       "SPEEDING_VIOLATIONS      0.194658           0.133868  0.218855  0.220415   \n",
       "DUIS                     0.120966           0.086567  0.120840  0.115354   \n",
       "PAST_ACCIDENTS           0.172008           0.119521  0.215269  0.206295   \n",
       "OUTCOME                 -0.308998          -0.378921 -0.262104 -0.232835   \n",
       "\n",
       "                     POSTAL_CODE  ANNUAL_MILEAGE  SPEEDING_VIOLATIONS  \\\n",
       "CREDIT_SCORE            0.008759       -0.157839             0.194658   \n",
       "VEHICLE_OWNERSHIP      -0.004866       -0.092527             0.133868   \n",
       "MARRIED                 0.012045       -0.439227             0.218855   \n",
       "CHILDREN                0.020911       -0.425509             0.220415   \n",
       "POSTAL_CODE             1.000000       -0.126802             0.113686   \n",
       "ANNUAL_MILEAGE         -0.126802        1.000000            -0.308303   \n",
       "SPEEDING_VIOLATIONS     0.113686       -0.308303             1.000000   \n",
       "DUIS                    0.038492       -0.111454             0.359838   \n",
       "PAST_ACCIDENTS         -0.116985       -0.187678             0.443074   \n",
       "OUTCOME                 0.095889        0.178041            -0.291862   \n",
       "\n",
       "                         DUIS  PAST_ACCIDENTS   OUTCOME  \n",
       "CREDIT_SCORE         0.120966        0.172008 -0.308998  \n",
       "VEHICLE_OWNERSHIP    0.086567        0.119521 -0.378921  \n",
       "MARRIED              0.120840        0.215269 -0.262104  \n",
       "CHILDREN             0.115354        0.206295 -0.232835  \n",
       "POSTAL_CODE          0.038492       -0.116985  0.095889  \n",
       "ANNUAL_MILEAGE      -0.111454       -0.187678  0.178041  \n",
       "SPEEDING_VIOLATIONS  0.359838        0.443074 -0.291862  \n",
       "DUIS                 1.000000        0.259359 -0.189352  \n",
       "PAST_ACCIDENTS       0.259359        1.000000 -0.311495  \n",
       "OUTCOME             -0.189352       -0.311495  1.000000  "
      ]
     },
     "execution_count": 41,
     "metadata": {},
     "output_type": "execute_result"
    }
   ],
   "source": [
    "corr_matrix"
   ]
  },
  {
   "cell_type": "code",
   "execution_count": 42,
   "id": "5fe3d0e5",
   "metadata": {},
   "outputs": [
    {
     "data": {
      "image/png": "[encoded data removed]",
      "text/plain": [
       "<Figure size 1000x800 with 2 Axes>"
      ]
     },
     "metadata": {},
     "output_type": "display_data"
    }
   ],
   "source": [
    "# Create a heat map\n",
    "plt.figure(figsize=(10, 8))\n",
    "sns.heatmap(corr_matrix, annot=True, cmap='coolwarm', linewidths=0.5)\n",
    "plt.title('Correlation Heat Map')\n",
    "plt.show()"
   ]
  },
  {
   "cell_type": "markdown",
   "id": "b82ede61",
   "metadata": {},
   "source": [
    "Interpretation\n",
    "\n",
    "1.Correlation Strength:\n",
    "\n",
    "The heat map uses color to represent the strength of correlation between variables. Darker colors indicate stronger correlations, while lighter colors indicate weaker or no correlations.\n",
    "Positive correlations (values closer to 1) are represented by warm colors (e.g., red), indicating that as one variable increases, the other tends to increase as well.\n",
    "Negative correlations (values closer to -1) are represented by cool colors (e.g., blue), indicating that as one variable increases, the other tends to decrease.\n",
    "\n",
    "2.Correlation Values:\n",
    "\n",
    "The heat map includes numeric values within each cell, indicating the correlation coefficient between pairs of variables.\n",
    "These values range from -1 to 1, where -1 represents a strong negative correlation, 0 represents no correlation, and 1 represents a strong positive correlation.\n",
    "The numeric values provide a quantitative measure of the strength and direction of the correlations."
   ]
  },
  {
   "cell_type": "markdown",
   "id": "c2582084",
   "metadata": {},
   "source": [
    "# Checking Relation between all categorical variables and dependent variables"
   ]
  },
  {
   "cell_type": "code",
   "execution_count": 43,
   "id": "401c5b0d",
   "metadata": {},
   "outputs": [
    {
     "data": {
      "text/plain": [
       "['AGE',\n",
       " 'GENDER',\n",
       " 'RACE',\n",
       " 'DRIVING_EXPERIENCE',\n",
       " 'EDUCATION',\n",
       " 'INCOME',\n",
       " 'VEHICLE_YEAR',\n",
       " 'VEHICLE_TYPE']"
      ]
     },
     "execution_count": 43,
     "metadata": {},
     "output_type": "execute_result"
    }
   ],
   "source": [
    "categorical = list(data.dtypes[data.dtypes == 'object'].index)\n",
    "categorical"
   ]
  },
  {
   "cell_type": "code",
   "execution_count": 44,
   "id": "e6894bba",
   "metadata": {},
   "outputs": [
    {
     "data": {
      "image/png": "[encoded data removed]",
      "text/plain": [
       "<Figure size 1000x600 with 1 Axes>"
      ]
     },
     "metadata": {},
     "output_type": "display_data"
    }
   ],
   "source": [
    "# Bar plot of dependent variable by a categorical independent variable\n",
    "plt.figure(figsize=(10, 6))\n",
    "sns.countplot(x='INCOME', hue='OUTCOME', data=data)\n",
    "plt.xlabel('Income')\n",
    "plt.ylabel('Count')\n",
    "plt.title('Outcome Distribution by Income')\n",
    "plt.show()"
   ]
  },
  {
   "cell_type": "markdown",
   "id": "be945bf0",
   "metadata": {},
   "source": [
    "# relationship of Numerical Variables with dependent variable"
   ]
  },
  {
   "cell_type": "code",
   "execution_count": 45,
   "id": "8817d959",
   "metadata": {},
   "outputs": [],
   "source": [
    "# Select numerical independent variables and the dependent variable\n",
    "numerical_vars = ['AGE', 'INCOME']\n",
    "dependent_var = 'OUTCOME'"
   ]
  },
  {
   "cell_type": "code",
   "execution_count": 46,
   "id": "44234158",
   "metadata": {},
   "outputs": [
    {
     "data": {
      "image/png": "[encoded data removed]",
      "text/plain": [
       "<Figure size 1000x600 with 1 Axes>"
      ]
     },
     "metadata": {},
     "output_type": "display_data"
    }
   ],
   "source": [
    "# Box plot of numerical variables by the dependent variable\n",
    "plt.figure(figsize=(10, 6))\n",
    "for var in numerical_vars:\n",
    "    sns.boxplot(x=dependent_var, y=var, data=data)\n",
    "plt.xlabel('Outcome')\n",
    "plt.ylabel('Value')\n",
    "plt.title('Relationship between Numerical Variables and Outcome')\n",
    "plt.show()"
   ]
  },
  {
   "cell_type": "markdown",
   "id": "370718d6",
   "metadata": {},
   "source": [
    "# Checking for normality"
   ]
  },
  {
   "cell_type": "markdown",
   "id": "09b36404",
   "metadata": {},
   "source": [
    "based on plot/graph\n",
    "\n",
    "based on skewness(value between -0.5 to 0.5)\n",
    "\n",
    "based on some tests like shapiro(p value > 0.5) etc"
   ]
  },
  {
   "cell_type": "code",
   "execution_count": 47,
   "id": "91cc6034",
   "metadata": {},
   "outputs": [
    {
     "name": "stdout",
     "output_type": "stream",
     "text": [
      "Skewness of all numeric columns:\n",
      "CREDIT_SCORE          -0.258131\n",
      "VEHICLE_OWNERSHIP     -0.857479\n",
      "MARRIED                0.007201\n",
      "CHILDREN              -0.815701\n",
      "POSTAL_CODE            2.682827\n",
      "ANNUAL_MILEAGE         0.009886\n",
      "SPEEDING_VIOLATIONS    2.365459\n",
      "DUIS                   2.757886\n",
      "PAST_ACCIDENTS         2.148949\n",
      "OUTCOME                0.805148\n",
      "dtype: float64\n"
     ]
    }
   ],
   "source": [
    "# Assuming 'data' is your DataFrame\n",
    "df = numeric_data.select_dtypes(include='number')\n",
    "skewness_all_columns = df.skew()\n",
    "\n",
    "# Print the skewness values for all numeric columns\n",
    "print(\"Skewness of all numeric columns:\")\n",
    "print(skewness_all_columns)"
   ]
  },
  {
   "cell_type": "code",
   "execution_count": 48,
   "id": "0aef5417",
   "metadata": {},
   "outputs": [],
   "source": [
    "selected_columns =pd.DataFrame(df[['CREDIT_SCORE', 'POSTAL_CODE', 'ANNUAL_MILEAGE']])"
   ]
  },
  {
   "cell_type": "code",
   "execution_count": 49,
   "id": "7f00fa55",
   "metadata": {},
   "outputs": [
    {
     "data": {
      "text/html": [
       "<div>\n",
       "<style scoped>\n",
       "    .dataframe tbody tr th:only-of-type {\n",
       "        vertical-align: middle;\n",
       "    }\n",
       "\n",
       "    .dataframe tbody tr th {\n",
       "        vertical-align: top;\n",
       "    }\n",
       "\n",
       "    .dataframe thead th {\n",
       "        text-align: right;\n",
       "    }\n",
       "</style>\n",
       "<table border=\"1\" class=\"dataframe\">\n",
       "  <thead>\n",
       "    <tr style=\"text-align: right;\">\n",
       "      <th></th>\n",
       "      <th>CREDIT_SCORE</th>\n",
       "      <th>POSTAL_CODE</th>\n",
       "      <th>ANNUAL_MILEAGE</th>\n",
       "    </tr>\n",
       "  </thead>\n",
       "  <tbody>\n",
       "    <tr>\n",
       "      <th>0</th>\n",
       "      <td>0.629027</td>\n",
       "      <td>10238</td>\n",
       "      <td>12000.0</td>\n",
       "    </tr>\n",
       "    <tr>\n",
       "      <th>1</th>\n",
       "      <td>0.357757</td>\n",
       "      <td>10238</td>\n",
       "      <td>16000.0</td>\n",
       "    </tr>\n",
       "    <tr>\n",
       "      <th>2</th>\n",
       "      <td>0.493146</td>\n",
       "      <td>10238</td>\n",
       "      <td>11000.0</td>\n",
       "    </tr>\n",
       "    <tr>\n",
       "      <th>3</th>\n",
       "      <td>0.206013</td>\n",
       "      <td>32765</td>\n",
       "      <td>11000.0</td>\n",
       "    </tr>\n",
       "    <tr>\n",
       "      <th>4</th>\n",
       "      <td>0.388366</td>\n",
       "      <td>32765</td>\n",
       "      <td>12000.0</td>\n",
       "    </tr>\n",
       "    <tr>\n",
       "      <th>...</th>\n",
       "      <td>...</td>\n",
       "      <td>...</td>\n",
       "      <td>...</td>\n",
       "    </tr>\n",
       "    <tr>\n",
       "      <th>9995</th>\n",
       "      <td>0.582787</td>\n",
       "      <td>10238</td>\n",
       "      <td>16000.0</td>\n",
       "    </tr>\n",
       "    <tr>\n",
       "      <th>9996</th>\n",
       "      <td>0.522231</td>\n",
       "      <td>32765</td>\n",
       "      <td>12000.0</td>\n",
       "    </tr>\n",
       "    <tr>\n",
       "      <th>9997</th>\n",
       "      <td>0.470940</td>\n",
       "      <td>10238</td>\n",
       "      <td>14000.0</td>\n",
       "    </tr>\n",
       "    <tr>\n",
       "      <th>9998</th>\n",
       "      <td>0.364185</td>\n",
       "      <td>10238</td>\n",
       "      <td>13000.0</td>\n",
       "    </tr>\n",
       "    <tr>\n",
       "      <th>9999</th>\n",
       "      <td>0.435225</td>\n",
       "      <td>10238</td>\n",
       "      <td>13000.0</td>\n",
       "    </tr>\n",
       "  </tbody>\n",
       "</table>\n",
       "<p>10000 rows × 3 columns</p>\n",
       "</div>"
      ],
      "text/plain": [
       "      CREDIT_SCORE  POSTAL_CODE  ANNUAL_MILEAGE\n",
       "0         0.629027        10238         12000.0\n",
       "1         0.357757        10238         16000.0\n",
       "2         0.493146        10238         11000.0\n",
       "3         0.206013        32765         11000.0\n",
       "4         0.388366        32765         12000.0\n",
       "...            ...          ...             ...\n",
       "9995      0.582787        10238         16000.0\n",
       "9996      0.522231        32765         12000.0\n",
       "9997      0.470940        10238         14000.0\n",
       "9998      0.364185        10238         13000.0\n",
       "9999      0.435225        10238         13000.0\n",
       "\n",
       "[10000 rows x 3 columns]"
      ]
     },
     "execution_count": 49,
     "metadata": {},
     "output_type": "execute_result"
    }
   ],
   "source": [
    "selected_columns"
   ]
  },
  {
   "cell_type": "code",
   "execution_count": 50,
   "id": "a104d763",
   "metadata": {},
   "outputs": [
    {
     "name": "stdout",
     "output_type": "stream",
     "text": [
      "Skewness of all selected_columns:\n",
      "CREDIT_SCORE          -0.258131\n",
      "VEHICLE_OWNERSHIP     -0.857479\n",
      "MARRIED                0.007201\n",
      "CHILDREN              -0.815701\n",
      "POSTAL_CODE            2.682827\n",
      "ANNUAL_MILEAGE         0.009886\n",
      "SPEEDING_VIOLATIONS    2.365459\n",
      "DUIS                   2.757886\n",
      "PAST_ACCIDENTS         2.148949\n",
      "OUTCOME                0.805148\n",
      "dtype: float64\n"
     ]
    }
   ],
   "source": [
    "selected_columns.skew()\n",
    "\n",
    "# Print the skewness values for all numeric columns\n",
    "print(\"Skewness of all selected_columns:\")\n",
    "\n",
    "print(skewness_all_columns)"
   ]
  },
  {
   "cell_type": "markdown",
   "id": "2439037c",
   "metadata": {},
   "source": [
    "# Power Transformation"
   ]
  },
  {
   "cell_type": "code",
   "execution_count": 51,
   "id": "27804786",
   "metadata": {},
   "outputs": [
    {
     "data": {
      "text/plain": [
       "0.8537935040645013"
      ]
     },
     "execution_count": 51,
     "metadata": {},
     "output_type": "execute_result"
    }
   ],
   "source": [
    "from sklearn import preprocessing\n",
    "PT = preprocessing.PowerTransformer()\n",
    "selected_columns['POSTAL_CODE']=PT.fit_transform(numeric_data[['POSTAL_CODE']])\n",
    "selected_columns['POSTAL_CODE'].skew()"
   ]
  },
  {
   "cell_type": "markdown",
   "id": "08f7de38",
   "metadata": {},
   "source": [
    "# shapiro test"
   ]
  },
  {
   "cell_type": "code",
   "execution_count": 52,
   "id": "77647191",
   "metadata": {},
   "outputs": [
    {
     "name": "stdout",
     "output_type": "stream",
     "text": [
      "Sample does not look Gaussian (reject H0)\n",
      "4.43214309697737e-09\n"
     ]
    }
   ],
   "source": [
    "import numpy as np\n",
    "from scipy import stats\n",
    "\n",
    "np.random.seed(20)\n",
    "sample_size = 30\n",
    "sample = np.random.choice(numeric_data['POSTAL_CODE'], sample_size, replace=False)\n",
    "\n",
    "# Perform the Shapiro-Wilk test\n",
    "statistic, p_value = stats.shapiro(sample)\n",
    "alpha = 0.05\n",
    "if p_value > alpha:\n",
    "    print(\"Sample looks Gaussian (fail to reject H0)\")\n",
    "else:\n",
    "    print(\"Sample does not look Gaussian (reject H0)\")\n",
    "    \n",
    "print(p_value)\n"
   ]
  },
  {
   "cell_type": "code",
   "execution_count": 53,
   "id": "a74f4ed8",
   "metadata": {},
   "outputs": [
    {
     "data": {
      "text/plain": [
       "<Axes: xlabel='POSTAL_CODE', ylabel='Density'>"
      ]
     },
     "execution_count": 53,
     "metadata": {},
     "output_type": "execute_result"
    },
    {
     "data": {
      "image/png": "[encoded data removed]",
      "text/plain": [
       "<Figure size 640x480 with 1 Axes>"
      ]
     },
     "metadata": {},
     "output_type": "display_data"
    }
   ],
   "source": [
    "sns.distplot(data['POSTAL_CODE'])"
   ]
  },
  {
   "cell_type": "code",
   "execution_count": 54,
   "id": "f1f3952e",
   "metadata": {},
   "outputs": [
    {
     "data": {
      "image/png": "[encoded data removed]",
      "text/plain": [
       "<Figure size 800x600 with 1 Axes>"
      ]
     },
     "metadata": {},
     "output_type": "display_data"
    }
   ],
   "source": [
    "plt.figure(figsize=(8, 6))\n",
    "sns.boxplot(data=data['POSTAL_CODE'], whis=1.5)  # Increase whis to extend the whiskers\n",
    "plt.title('Box Plot For POSTAL_CODE')\n",
    "plt.xlabel('data')\n",
    "plt.show()"
   ]
  },
  {
   "cell_type": "code",
   "execution_count": 55,
   "id": "b65b9cb5",
   "metadata": {},
   "outputs": [
    {
     "name": "stdout",
     "output_type": "stream",
     "text": [
      "the total number of outlier is: 484\n",
      "Lower bound: -23552.5\n",
      "Upper bound: 66555.5\n"
     ]
    }
   ],
   "source": [
    "# Calculate quartiles\n",
    "outlier_multiplier = 1.5  \n",
    "q1 = data['POSTAL_CODE'].quantile(0.25)\n",
    "q3 = data['POSTAL_CODE'].quantile(0.75)\n",
    "\n",
    "# Calculate interquartile range (IQR)\n",
    "iqr = q3 - q1\n",
    "\n",
    "# Define lower and upper bounds\n",
    "lower_bound = q1 - outlier_multiplier * iqr\n",
    "upper_bound = q3 + outlier_multiplier * iqr\n",
    "\n",
    "# Identify outliers\n",
    "outliers = data[(data['POSTAL_CODE'] < lower_bound) | (data[\"POSTAL_CODE\"] > upper_bound)]\n",
    "print(\"the total number of outlier is:\",len(outliers))\n",
    "print(f\"Lower bound: {lower_bound}\")\n",
    "print(f\"Upper bound: {upper_bound}\")"
   ]
  },
  {
   "cell_type": "markdown",
   "id": "c1704841",
   "metadata": {},
   "source": [
    "# Hypothesis for normality test"
   ]
  },
  {
   "cell_type": "markdown",
   "id": "f86a7aba",
   "metadata": {},
   "source": [
    "Null Hypothesis (H0): The data is normally distributed.\n",
    "\n",
    "Alternative Hypothesis (H1): The data is not normally distributed.\n",
    "\n",
    "During hypothesis testing, if the p-value obtained from the normality test is less than the chosen significance level (usually 0.05)\n",
    "\n",
    "we reject the null hypothesis in favor of the alternative hypothesis. This indicates that there is sufficient evidence to conclude that the data significantly deviates from a normal distribution."
   ]
  },
  {
   "cell_type": "code",
   "execution_count": 56,
   "id": "22991923",
   "metadata": {},
   "outputs": [],
   "source": [
    "## if p value greater than 0.05 then the data follow normal or data is normally distributed"
   ]
  },
  {
   "cell_type": "code",
   "execution_count": 58,
   "id": "519b47fc",
   "metadata": {},
   "outputs": [
    {
     "name": "stdout",
     "output_type": "stream",
     "text": [
      "Sample does not look Gaussian (reject H0)\n",
      "1.3592343917068206e-09\n"
     ]
    }
   ],
   "source": [
    "import scipy.stats as stats\n",
    "# Randomly select a sample from the dataset\n",
    "sample_size = 30\n",
    "sample = np.random.choice(data['POSTAL_CODE'],sample_size, replace=False)\n",
    "\n",
    "# Perform the Shapiro-Wilk test\n",
    "statistic, p_value = stats.shapiro(sample)\n",
    "alpha = 0.05\n",
    "if p_value > alpha:\n",
    "    print(\"Sample looks Gaussian (fail to reject H0)\")\n",
    "else:\n",
    "    print(\"Sample does not look Gaussian (reject H0)\")\n",
    "    \n",
    "print(p_value)"
   ]
  },
  {
   "cell_type": "code",
   "execution_count": 59,
   "id": "fe7dba50",
   "metadata": {},
   "outputs": [
    {
     "name": "stdout",
     "output_type": "stream",
     "text": [
      "Sample looks Gaussian (fail to reject H0)\n",
      "0.2980966866016388\n"
     ]
    }
   ],
   "source": [
    "np.random.seed(20)\n",
    "sample_size = 30\n",
    "sample = np.random.choice(data['CREDIT_SCORE'],sample_size, replace=False)\n",
    "\n",
    "# Perform the Shapiro-Wilk test\n",
    "statistic, p_value = stats.shapiro(sample)\n",
    "alpha = 0.05\n",
    "if p_value > alpha:\n",
    "    print(\"Sample looks Gaussian (fail to reject H0)\")\n",
    "else:\n",
    "    print(\"Sample does not look Gaussian (reject H0)\")\n",
    "    \n",
    "print(p_value)"
   ]
  },
  {
   "cell_type": "code",
   "execution_count": 60,
   "id": "61bbdd42",
   "metadata": {},
   "outputs": [
    {
     "name": "stdout",
     "output_type": "stream",
     "text": [
      "Sample looks Gaussian (fail to reject H0)\n",
      "0.09365150332450867\n"
     ]
    }
   ],
   "source": [
    "np.random.seed(20)\n",
    "sample_size = 30\n",
    "sample = np.random.choice(data['ANNUAL_MILEAGE'],sample_size, replace=False)\n",
    "\n",
    "# Perform the Shapiro-Wilk test\n",
    "statistic, p_value = stats.shapiro(sample)\n",
    "alpha = 0.05\n",
    "if p_value > alpha:\n",
    "    print(\"Sample looks Gaussian (fail to reject H0)\")\n",
    "else:\n",
    "    print(\"Sample does not look Gaussian (reject H0)\")\n",
    "    \n",
    "print(p_value)"
   ]
  },
  {
   "cell_type": "code",
   "execution_count": 61,
   "id": "8ebca35d",
   "metadata": {},
   "outputs": [
    {
     "data": {
      "text/plain": [
       "'\\nTo remove outliers of multiple column\\n\\nDefine columns to check for outliers\\n>num_cols = data[[\\'POSTAL_CODE\\']]\\n\\nfor col in num_cols:\\n\\n    # Calculate 25th and 75th percentile\\n    q25, q75 = np.percentile(df[col], 25), np.percentile(df[col], 75) \\n    iqr = q75 - q25\\n    \\n    # Calculate outlier cut-off\\n    cut_off = iqr * 1.5\\n    lower, upper = q25 - cut_off, q75 + cut_off\\n\\n    # Identify outliers\\n    outliers = [x for x in df[col] if x < lower or x > upper]\\n    print(f\"Identified {len(outliers)} outliers for \\'{col}\\'\")\\n\\n    # Remove outliers\\n    df = df[~((df[col] < lower) | (df[col] > upper))]\\n    \\nprint(\"Removed outliers\")\\nprint(df.shape)\\n'"
      ]
     },
     "execution_count": 61,
     "metadata": {},
     "output_type": "execute_result"
    }
   ],
   "source": [
    "\"\"\"\n",
    "To remove outliers of multiple column\n",
    "\n",
    "Define columns to check for outliers\n",
    ">num_cols = data[['POSTAL_CODE']]\n",
    "\n",
    "for col in num_cols:\n",
    "\n",
    "    # Calculate 25th and 75th percentile\n",
    "    q25, q75 = np.percentile(df[col], 25), np.percentile(df[col], 75) \n",
    "    iqr = q75 - q25\n",
    "    \n",
    "    # Calculate outlier cut-off\n",
    "    cut_off = iqr * 1.5\n",
    "    lower, upper = q25 - cut_off, q75 + cut_off\n",
    "\n",
    "    # Identify outliers\n",
    "    outliers = [x for x in df[col] if x < lower or x > upper]\n",
    "    print(f\"Identified {len(outliers)} outliers for '{col}'\")\n",
    "\n",
    "    # Remove outliers\n",
    "    df = df[~((df[col] < lower) | (df[col] > upper))]\n",
    "    \n",
    "print(\"Removed outliers\")\n",
    "print(df.shape)\n",
    "\"\"\""
   ]
  },
  {
   "cell_type": "code",
   "execution_count": 62,
   "id": "a38e3a1e",
   "metadata": {},
   "outputs": [
    {
     "data": {
      "image/png": "[encoded data removed]",
      "text/plain": [
       "<Figure size 400x400 with 1 Axes>"
      ]
     },
     "metadata": {},
     "output_type": "display_data"
    }
   ],
   "source": [
    "## another method to check normality\n",
    "## data follows a normal distribution, the points on the Q-Q plot should fall approximately along the diagonal line.\n",
    "import statsmodels.api as sm\n",
    "fig, ax = plt.subplots(figsize=(4, 4))\n",
    "sm.qqplot(numeric_data['CREDIT_SCORE'], line='s', ax=ax)\n",
    "ax.set_title('Q-Q Plot')\n",
    "plt.show()"
   ]
  },
  {
   "cell_type": "markdown",
   "id": "690fa33a",
   "metadata": {},
   "source": [
    "## Determine which demographic groups have highest/lowest risk"
   ]
  },
  {
   "cell_type": "code",
   "execution_count": 63,
   "id": "97ff4335",
   "metadata": {},
   "outputs": [
    {
     "name": "stdout",
     "output_type": "stream",
     "text": [
      "Demographic Group with Highest Risk:\n",
      "('65+', 'male', 'minority', '20-29y', 'none')\n",
      "\n",
      "Demographic Group with Lowest Risk:\n",
      "('65+', 'male', 'minority', '30y+', 'university')\n"
     ]
    }
   ],
   "source": [
    "import pandas as pd\n",
    "\n",
    "# Group the data by demographic groups and calculate claim rates\n",
    "grouped_data = data.groupby(['AGE', 'GENDER', 'RACE', 'DRIVING_EXPERIENCE', 'EDUCATION']).mean()['OUTCOME']\n",
    "\n",
    "# Sort the claim rates in descending order\n",
    "sorted_claim_rates = grouped_data.sort_values(ascending=False)\n",
    "\n",
    "# Get the demographic groups with highest and lowest claim rates\n",
    "highest_risk_group = sorted_claim_rates.index[0]\n",
    "lowest_risk_group = sorted_claim_rates.index[-1]\n",
    "\n",
    "print(\"Demographic Group with Highest Risk:\")\n",
    "print(highest_risk_group)\n",
    "print(\"\\nDemographic Group with Lowest Risk:\")\n",
    "print(lowest_risk_group)"
   ]
  },
  {
   "cell_type": "markdown",
   "id": "7efcd41d",
   "metadata": {},
   "source": [
    "# Encoding convert categorical to numerical"
   ]
  },
  {
   "cell_type": "code",
   "execution_count": 64,
   "id": "847a71bd",
   "metadata": {},
   "outputs": [],
   "source": [
    "from sklearn.preprocessing import PolynomialFeatures"
   ]
  },
  {
   "cell_type": "code",
   "execution_count": 65,
   "id": "ac9624e3",
   "metadata": {},
   "outputs": [],
   "source": [
    "### or use replace method based on counts\n",
    "## label encoading\n",
    "# LE = preprocessing.LabelEncoder()"
   ]
  },
  {
   "cell_type": "code",
   "execution_count": 100,
   "id": "597495c6",
   "metadata": {},
   "outputs": [
    {
     "data": {
      "text/plain": [
       "0       0\n",
       "1       1\n",
       "2       1\n",
       "3       1\n",
       "4       3\n",
       "       ..\n",
       "9995    3\n",
       "9996    3\n",
       "9997    3\n",
       "9998    3\n",
       "9999    3\n",
       "Name: AGE, Length: 10000, dtype: int64"
      ]
     },
     "execution_count": 100,
     "metadata": {},
     "output_type": "execute_result"
    }
   ],
   "source": [
    "# Encoding:\n",
    "Team_AGE = {'65+': 0, '16-25': 1, '40-64': 2, '26-39': 3}\n",
    "\n",
    "# Replace categorical values with numerical values using replace function\n",
    "data['AGE'] = data['AGE'].replace(Team_AGE)\n",
    "data['AGE']"
   ]
  },
  {
   "cell_type": "code",
   "execution_count": 67,
   "id": "1de14810",
   "metadata": {},
   "outputs": [
    {
     "data": {
      "text/plain": [
       "female    5010\n",
       "male      4990\n",
       "Name: GENDER, dtype: int64"
      ]
     },
     "execution_count": 67,
     "metadata": {},
     "output_type": "execute_result"
    }
   ],
   "source": [
    "data['GENDER'].value_counts()"
   ]
  },
  {
   "cell_type": "code",
   "execution_count": 101,
   "id": "97582048",
   "metadata": {},
   "outputs": [
    {
     "data": {
      "text/plain": [
       "0       1\n",
       "1       0\n",
       "2       1\n",
       "3       0\n",
       "4       0\n",
       "       ..\n",
       "9995    1\n",
       "9996    1\n",
       "9997    0\n",
       "9998    1\n",
       "9999    1\n",
       "Name: GENDER, Length: 10000, dtype: int64"
      ]
     },
     "execution_count": 101,
     "metadata": {},
     "output_type": "execute_result"
    }
   ],
   "source": [
    "# Encoding:\n",
    "Team_GENDER = {'male': 0, 'female': 1}\n",
    "\n",
    "# Replace categorical values with numerical values using replace function\n",
    "data['GENDER'] = data['GENDER'].replace(Team_GENDER)\n",
    "data['GENDER']"
   ]
  },
  {
   "cell_type": "code",
   "execution_count": 102,
   "id": "1ff9ca8c",
   "metadata": {},
   "outputs": [
    {
     "data": {
      "text/plain": [
       "1    9012\n",
       "0     988\n",
       "Name: RACE, dtype: int64"
      ]
     },
     "execution_count": 102,
     "metadata": {},
     "output_type": "execute_result"
    }
   ],
   "source": [
    "data['RACE'].value_counts()"
   ]
  },
  {
   "cell_type": "code",
   "execution_count": 103,
   "id": "b7adf720",
   "metadata": {},
   "outputs": [
    {
     "data": {
      "text/plain": [
       "0       1\n",
       "1       1\n",
       "2       1\n",
       "3       1\n",
       "4       1\n",
       "       ..\n",
       "9995    1\n",
       "9996    1\n",
       "9997    1\n",
       "9998    1\n",
       "9999    1\n",
       "Name: RACE, Length: 10000, dtype: int64"
      ]
     },
     "execution_count": 103,
     "metadata": {},
     "output_type": "execute_result"
    }
   ],
   "source": [
    "# Encoding:\n",
    "Team_RACE = {'minority': 0, 'majority': 1}\n",
    "\n",
    "# Replace categorical values with numerical values using replace function\n",
    "data['RACE'] = data['RACE'].replace(Team_RACE)\n",
    "data['RACE']"
   ]
  },
  {
   "cell_type": "code",
   "execution_count": 71,
   "id": "94deec8f",
   "metadata": {},
   "outputs": [
    {
     "data": {
      "text/plain": [
       "0-9y      3530\n",
       "10-19y    3299\n",
       "20-29y    2119\n",
       "30y+      1052\n",
       "Name: DRIVING_EXPERIENCE, dtype: int64"
      ]
     },
     "execution_count": 71,
     "metadata": {},
     "output_type": "execute_result"
    }
   ],
   "source": [
    "data['DRIVING_EXPERIENCE'].value_counts()"
   ]
  },
  {
   "cell_type": "code",
   "execution_count": 104,
   "id": "1e635bc5",
   "metadata": {},
   "outputs": [
    {
     "data": {
      "text/html": [
       "<div>\n",
       "<style scoped>\n",
       "    .dataframe tbody tr th:only-of-type {\n",
       "        vertical-align: middle;\n",
       "    }\n",
       "\n",
       "    .dataframe tbody tr th {\n",
       "        vertical-align: top;\n",
       "    }\n",
       "\n",
       "    .dataframe thead th {\n",
       "        text-align: right;\n",
       "    }\n",
       "</style>\n",
       "<table border=\"1\" class=\"dataframe\">\n",
       "  <thead>\n",
       "    <tr style=\"text-align: right;\">\n",
       "      <th></th>\n",
       "      <th>AGE</th>\n",
       "      <th>GENDER</th>\n",
       "      <th>RACE</th>\n",
       "      <th>DRIVING_EXPERIENCE</th>\n",
       "      <th>EDUCATION</th>\n",
       "      <th>INCOME</th>\n",
       "      <th>CREDIT_SCORE</th>\n",
       "      <th>VEHICLE_OWNERSHIP</th>\n",
       "      <th>VEHICLE_YEAR</th>\n",
       "      <th>MARRIED</th>\n",
       "      <th>CHILDREN</th>\n",
       "      <th>POSTAL_CODE</th>\n",
       "      <th>ANNUAL_MILEAGE</th>\n",
       "      <th>VEHICLE_TYPE</th>\n",
       "      <th>SPEEDING_VIOLATIONS</th>\n",
       "      <th>DUIS</th>\n",
       "      <th>PAST_ACCIDENTS</th>\n",
       "      <th>OUTCOME</th>\n",
       "    </tr>\n",
       "  </thead>\n",
       "  <tbody>\n",
       "    <tr>\n",
       "      <th>0</th>\n",
       "      <td>0</td>\n",
       "      <td>1</td>\n",
       "      <td>1</td>\n",
       "      <td>3</td>\n",
       "      <td>2</td>\n",
       "      <td>3</td>\n",
       "      <td>0.629027</td>\n",
       "      <td>1.0</td>\n",
       "      <td>after_2015</td>\n",
       "      <td>0.0</td>\n",
       "      <td>1.0</td>\n",
       "      <td>10238</td>\n",
       "      <td>12000.0</td>\n",
       "      <td>1</td>\n",
       "      <td>0</td>\n",
       "      <td>0</td>\n",
       "      <td>0</td>\n",
       "      <td>0.0</td>\n",
       "    </tr>\n",
       "    <tr>\n",
       "      <th>1</th>\n",
       "      <td>1</td>\n",
       "      <td>0</td>\n",
       "      <td>1</td>\n",
       "      <td>3</td>\n",
       "      <td>0</td>\n",
       "      <td>1</td>\n",
       "      <td>0.357757</td>\n",
       "      <td>0.0</td>\n",
       "      <td>before_2015</td>\n",
       "      <td>0.0</td>\n",
       "      <td>0.0</td>\n",
       "      <td>10238</td>\n",
       "      <td>16000.0</td>\n",
       "      <td>1</td>\n",
       "      <td>0</td>\n",
       "      <td>0</td>\n",
       "      <td>0</td>\n",
       "      <td>1.0</td>\n",
       "    </tr>\n",
       "    <tr>\n",
       "      <th>2</th>\n",
       "      <td>1</td>\n",
       "      <td>1</td>\n",
       "      <td>1</td>\n",
       "      <td>3</td>\n",
       "      <td>2</td>\n",
       "      <td>0</td>\n",
       "      <td>0.493146</td>\n",
       "      <td>1.0</td>\n",
       "      <td>before_2015</td>\n",
       "      <td>0.0</td>\n",
       "      <td>0.0</td>\n",
       "      <td>10238</td>\n",
       "      <td>11000.0</td>\n",
       "      <td>1</td>\n",
       "      <td>0</td>\n",
       "      <td>0</td>\n",
       "      <td>0</td>\n",
       "      <td>0.0</td>\n",
       "    </tr>\n",
       "    <tr>\n",
       "      <th>3</th>\n",
       "      <td>1</td>\n",
       "      <td>0</td>\n",
       "      <td>1</td>\n",
       "      <td>3</td>\n",
       "      <td>1</td>\n",
       "      <td>0</td>\n",
       "      <td>0.206013</td>\n",
       "      <td>1.0</td>\n",
       "      <td>before_2015</td>\n",
       "      <td>0.0</td>\n",
       "      <td>1.0</td>\n",
       "      <td>32765</td>\n",
       "      <td>11000.0</td>\n",
       "      <td>1</td>\n",
       "      <td>0</td>\n",
       "      <td>0</td>\n",
       "      <td>0</td>\n",
       "      <td>0.0</td>\n",
       "    </tr>\n",
       "    <tr>\n",
       "      <th>4</th>\n",
       "      <td>3</td>\n",
       "      <td>0</td>\n",
       "      <td>1</td>\n",
       "      <td>2</td>\n",
       "      <td>0</td>\n",
       "      <td>0</td>\n",
       "      <td>0.388366</td>\n",
       "      <td>1.0</td>\n",
       "      <td>before_2015</td>\n",
       "      <td>0.0</td>\n",
       "      <td>0.0</td>\n",
       "      <td>32765</td>\n",
       "      <td>12000.0</td>\n",
       "      <td>1</td>\n",
       "      <td>2</td>\n",
       "      <td>0</td>\n",
       "      <td>1</td>\n",
       "      <td>1.0</td>\n",
       "    </tr>\n",
       "    <tr>\n",
       "      <th>...</th>\n",
       "      <td>...</td>\n",
       "      <td>...</td>\n",
       "      <td>...</td>\n",
       "      <td>...</td>\n",
       "      <td>...</td>\n",
       "      <td>...</td>\n",
       "      <td>...</td>\n",
       "      <td>...</td>\n",
       "      <td>...</td>\n",
       "      <td>...</td>\n",
       "      <td>...</td>\n",
       "      <td>...</td>\n",
       "      <td>...</td>\n",
       "      <td>...</td>\n",
       "      <td>...</td>\n",
       "      <td>...</td>\n",
       "      <td>...</td>\n",
       "      <td>...</td>\n",
       "    </tr>\n",
       "    <tr>\n",
       "      <th>9995</th>\n",
       "      <td>3</td>\n",
       "      <td>1</td>\n",
       "      <td>1</td>\n",
       "      <td>2</td>\n",
       "      <td>1</td>\n",
       "      <td>3</td>\n",
       "      <td>0.582787</td>\n",
       "      <td>1.0</td>\n",
       "      <td>before_2015</td>\n",
       "      <td>0.0</td>\n",
       "      <td>0.0</td>\n",
       "      <td>10238</td>\n",
       "      <td>16000.0</td>\n",
       "      <td>1</td>\n",
       "      <td>0</td>\n",
       "      <td>0</td>\n",
       "      <td>1</td>\n",
       "      <td>0.0</td>\n",
       "    </tr>\n",
       "    <tr>\n",
       "      <th>9996</th>\n",
       "      <td>3</td>\n",
       "      <td>1</td>\n",
       "      <td>1</td>\n",
       "      <td>2</td>\n",
       "      <td>0</td>\n",
       "      <td>2</td>\n",
       "      <td>0.522231</td>\n",
       "      <td>1.0</td>\n",
       "      <td>after_2015</td>\n",
       "      <td>0.0</td>\n",
       "      <td>1.0</td>\n",
       "      <td>32765</td>\n",
       "      <td>12000.0</td>\n",
       "      <td>1</td>\n",
       "      <td>1</td>\n",
       "      <td>0</td>\n",
       "      <td>0</td>\n",
       "      <td>0.0</td>\n",
       "    </tr>\n",
       "    <tr>\n",
       "      <th>9997</th>\n",
       "      <td>3</td>\n",
       "      <td>0</td>\n",
       "      <td>1</td>\n",
       "      <td>3</td>\n",
       "      <td>2</td>\n",
       "      <td>2</td>\n",
       "      <td>0.470940</td>\n",
       "      <td>1.0</td>\n",
       "      <td>before_2015</td>\n",
       "      <td>0.0</td>\n",
       "      <td>1.0</td>\n",
       "      <td>10238</td>\n",
       "      <td>14000.0</td>\n",
       "      <td>1</td>\n",
       "      <td>0</td>\n",
       "      <td>0</td>\n",
       "      <td>0</td>\n",
       "      <td>0.0</td>\n",
       "    </tr>\n",
       "    <tr>\n",
       "      <th>9998</th>\n",
       "      <td>3</td>\n",
       "      <td>1</td>\n",
       "      <td>1</td>\n",
       "      <td>2</td>\n",
       "      <td>2</td>\n",
       "      <td>1</td>\n",
       "      <td>0.364185</td>\n",
       "      <td>0.0</td>\n",
       "      <td>before_2015</td>\n",
       "      <td>0.0</td>\n",
       "      <td>1.0</td>\n",
       "      <td>10238</td>\n",
       "      <td>13000.0</td>\n",
       "      <td>1</td>\n",
       "      <td>2</td>\n",
       "      <td>0</td>\n",
       "      <td>1</td>\n",
       "      <td>1.0</td>\n",
       "    </tr>\n",
       "    <tr>\n",
       "      <th>9999</th>\n",
       "      <td>3</td>\n",
       "      <td>1</td>\n",
       "      <td>1</td>\n",
       "      <td>3</td>\n",
       "      <td>0</td>\n",
       "      <td>0</td>\n",
       "      <td>0.435225</td>\n",
       "      <td>1.0</td>\n",
       "      <td>before_2015</td>\n",
       "      <td>1.0</td>\n",
       "      <td>1.0</td>\n",
       "      <td>10238</td>\n",
       "      <td>13000.0</td>\n",
       "      <td>1</td>\n",
       "      <td>0</td>\n",
       "      <td>0</td>\n",
       "      <td>0</td>\n",
       "      <td>0.0</td>\n",
       "    </tr>\n",
       "  </tbody>\n",
       "</table>\n",
       "<p>10000 rows × 18 columns</p>\n",
       "</div>"
      ],
      "text/plain": [
       "      AGE  GENDER  RACE  DRIVING_EXPERIENCE  EDUCATION  INCOME  CREDIT_SCORE  \\\n",
       "0       0       1     1                   3          2       3      0.629027   \n",
       "1       1       0     1                   3          0       1      0.357757   \n",
       "2       1       1     1                   3          2       0      0.493146   \n",
       "3       1       0     1                   3          1       0      0.206013   \n",
       "4       3       0     1                   2          0       0      0.388366   \n",
       "...   ...     ...   ...                 ...        ...     ...           ...   \n",
       "9995    3       1     1                   2          1       3      0.582787   \n",
       "9996    3       1     1                   2          0       2      0.522231   \n",
       "9997    3       0     1                   3          2       2      0.470940   \n",
       "9998    3       1     1                   2          2       1      0.364185   \n",
       "9999    3       1     1                   3          0       0      0.435225   \n",
       "\n",
       "      VEHICLE_OWNERSHIP VEHICLE_YEAR  MARRIED  CHILDREN  POSTAL_CODE  \\\n",
       "0                   1.0   after_2015      0.0       1.0        10238   \n",
       "1                   0.0  before_2015      0.0       0.0        10238   \n",
       "2                   1.0  before_2015      0.0       0.0        10238   \n",
       "3                   1.0  before_2015      0.0       1.0        32765   \n",
       "4                   1.0  before_2015      0.0       0.0        32765   \n",
       "...                 ...          ...      ...       ...          ...   \n",
       "9995                1.0  before_2015      0.0       0.0        10238   \n",
       "9996                1.0   after_2015      0.0       1.0        32765   \n",
       "9997                1.0  before_2015      0.0       1.0        10238   \n",
       "9998                0.0  before_2015      0.0       1.0        10238   \n",
       "9999                1.0  before_2015      1.0       1.0        10238   \n",
       "\n",
       "      ANNUAL_MILEAGE VEHICLE_TYPE  SPEEDING_VIOLATIONS  DUIS  PAST_ACCIDENTS  \\\n",
       "0            12000.0            1                    0     0               0   \n",
       "1            16000.0            1                    0     0               0   \n",
       "2            11000.0            1                    0     0               0   \n",
       "3            11000.0            1                    0     0               0   \n",
       "4            12000.0            1                    2     0               1   \n",
       "...              ...          ...                  ...   ...             ...   \n",
       "9995         16000.0            1                    0     0               1   \n",
       "9996         12000.0            1                    1     0               0   \n",
       "9997         14000.0            1                    0     0               0   \n",
       "9998         13000.0            1                    2     0               1   \n",
       "9999         13000.0            1                    0     0               0   \n",
       "\n",
       "      OUTCOME  \n",
       "0         0.0  \n",
       "1         1.0  \n",
       "2         0.0  \n",
       "3         0.0  \n",
       "4         1.0  \n",
       "...       ...  \n",
       "9995      0.0  \n",
       "9996      0.0  \n",
       "9997      0.0  \n",
       "9998      1.0  \n",
       "9999      0.0  \n",
       "\n",
       "[10000 rows x 18 columns]"
      ]
     },
     "execution_count": 104,
     "metadata": {},
     "output_type": "execute_result"
    }
   ],
   "source": [
    "data"
   ]
  },
  {
   "cell_type": "code",
   "execution_count": 105,
   "id": "f0515ef0",
   "metadata": {},
   "outputs": [
    {
     "data": {
      "text/plain": [
       "2    4157\n",
       "1    3928\n",
       "0    1915\n",
       "Name: EDUCATION, dtype: int64"
      ]
     },
     "execution_count": 105,
     "metadata": {},
     "output_type": "execute_result"
    }
   ],
   "source": [
    "data['EDUCATION'].value_counts()"
   ]
  },
  {
   "cell_type": "code",
   "execution_count": 106,
   "id": "5eb0668f",
   "metadata": {},
   "outputs": [
    {
     "data": {
      "text/plain": [
       "0       2\n",
       "1       0\n",
       "2       2\n",
       "3       1\n",
       "4       0\n",
       "       ..\n",
       "9995    1\n",
       "9996    0\n",
       "9997    2\n",
       "9998    2\n",
       "9999    0\n",
       "Name: EDUCATION, Length: 10000, dtype: int64"
      ]
     },
     "execution_count": 106,
     "metadata": {},
     "output_type": "execute_result"
    }
   ],
   "source": [
    "# Encoding:\n",
    "Team_EDUCATION = {'none': 0, 'university': 1, 'high_school':2}\n",
    "\n",
    "# Replace categorical values with numerical values using replace function\n",
    "data['EDUCATION'] = data['EDUCATION'].replace(Team_EDUCATION)\n",
    "data['EDUCATION']"
   ]
  },
  {
   "cell_type": "code",
   "execution_count": 107,
   "id": "da95cb01",
   "metadata": {},
   "outputs": [
    {
     "data": {
      "text/plain": [
       "3    4336\n",
       "2    2138\n",
       "1    1814\n",
       "0    1712\n",
       "Name: INCOME, dtype: int64"
      ]
     },
     "execution_count": 107,
     "metadata": {},
     "output_type": "execute_result"
    }
   ],
   "source": [
    "data['INCOME'].value_counts()"
   ]
  },
  {
   "cell_type": "code",
   "execution_count": 108,
   "id": "6c372619",
   "metadata": {},
   "outputs": [
    {
     "data": {
      "text/plain": [
       "0       3\n",
       "1       1\n",
       "2       0\n",
       "3       0\n",
       "4       0\n",
       "       ..\n",
       "9995    3\n",
       "9996    2\n",
       "9997    2\n",
       "9998    1\n",
       "9999    0\n",
       "Name: INCOME, Length: 10000, dtype: int64"
      ]
     },
     "execution_count": 108,
     "metadata": {},
     "output_type": "execute_result"
    }
   ],
   "source": [
    "# Encoding:\n",
    "Team_INCOME = {'working_class': 0, 'poverty': 1, 'middle_class':2, 'upper_class':3}\n",
    "\n",
    "# Replace categorical values with numerical values using replace function\n",
    "data['INCOME'] = data['INCOME'].replace(Team_INCOME)\n",
    "data['INCOME']"
   ]
  },
  {
   "cell_type": "code",
   "execution_count": 109,
   "id": "e0adfb27",
   "metadata": {},
   "outputs": [
    {
     "data": {
      "text/plain": [
       "before_2015    6967\n",
       "after_2015     3033\n",
       "Name: VEHICLE_YEAR, dtype: int64"
      ]
     },
     "execution_count": 109,
     "metadata": {},
     "output_type": "execute_result"
    }
   ],
   "source": [
    "data['VEHICLE_YEAR'].value_counts()"
   ]
  },
  {
   "cell_type": "code",
   "execution_count": 111,
   "id": "03193fb6",
   "metadata": {},
   "outputs": [
    {
     "data": {
      "text/plain": [
       "0       0\n",
       "1       1\n",
       "2       1\n",
       "3       1\n",
       "4       1\n",
       "       ..\n",
       "9995    1\n",
       "9996    0\n",
       "9997    1\n",
       "9998    1\n",
       "9999    1\n",
       "Name: VEHICLE_YEAR, Length: 10000, dtype: int64"
      ]
     },
     "execution_count": 111,
     "metadata": {},
     "output_type": "execute_result"
    }
   ],
   "source": [
    "# Encoding:\n",
    "Team_VEHICLE_YEAR = {'after_2015': 0, 'before_2015': 1}\n",
    "\n",
    "# Replace categorical values with numerical values using replace function\n",
    "data['VEHICLE_YEAR'] = data['VEHICLE_YEAR'].replace(Team_VEHICLE_YEAR)\n",
    "data['VEHICLE_YEAR']"
   ]
  },
  {
   "cell_type": "code",
   "execution_count": 112,
   "id": "4833759a",
   "metadata": {},
   "outputs": [
    {
     "data": {
      "text/plain": [
       "1             9523\n",
       "sports_car     477\n",
       "Name: VEHICLE_TYPE, dtype: int64"
      ]
     },
     "execution_count": 112,
     "metadata": {},
     "output_type": "execute_result"
    }
   ],
   "source": [
    "data['VEHICLE_TYPE'].value_counts()"
   ]
  },
  {
   "cell_type": "code",
   "execution_count": 115,
   "id": "84983b63",
   "metadata": {},
   "outputs": [
    {
     "data": {
      "text/plain": [
       "0       1\n",
       "1       1\n",
       "2       1\n",
       "3       1\n",
       "4       1\n",
       "       ..\n",
       "9995    1\n",
       "9996    1\n",
       "9997    1\n",
       "9998    1\n",
       "9999    1\n",
       "Name: VEHICLE_TYPE, Length: 10000, dtype: int64"
      ]
     },
     "execution_count": 115,
     "metadata": {},
     "output_type": "execute_result"
    }
   ],
   "source": [
    "# Encoding:\n",
    "Team_VEHICLE_TYPE = {'sports_car': 0, 'sedan': 1}\n",
    "\n",
    "# Replace categorical values with numerical values using replace function\n",
    "data['VEHICLE_TYPE'] = data['VEHICLE_TYPE'].replace(Team_VEHICLE_TYPE)\n",
    "data['VEHICLE_TYPE']"
   ]
  },
  {
   "cell_type": "markdown",
   "id": "8fc9cff6",
   "metadata": {},
   "source": [
    "# t-test for one sample"
   ]
  },
  {
   "cell_type": "markdown",
   "id": "76a99926",
   "metadata": {},
   "source": [
    "When you want to compare the mean of a single sample to a known or hypothesized population mean.\n",
    "\n",
    "Null Hypothesis (H0): The mean of the population is equal to a specified value (μ = μ0).\n",
    "\n",
    "Alternative Hypothesis (H1): The mean of the population is not equal to the specified value (μ ≠ μ0) or is greater than or less than the specified value (for one-tailed tests)."
   ]
  },
  {
   "cell_type": "code",
   "execution_count": 81,
   "id": "dd306f12",
   "metadata": {},
   "outputs": [
    {
     "name": "stdout",
     "output_type": "stream",
     "text": [
      "One-Sample T-test Results:\n",
      "T-statistic: 0.0\n",
      "P-value: 1.0\n",
      "Fail to reject the null hypothesis: there is insufficient evidence to suggest that the sample mean differs from the population mean.\n"
     ]
    }
   ],
   "source": [
    "mu_0 = np.mean(df['POSTAL_CODE'])\n",
    "\n",
    "# Perform one-sample t-test\n",
    "t_statistic, p_value = stats.ttest_1samp(data['POSTAL_CODE'], mu_0)\n",
    "\n",
    "# Print the results\n",
    "print(\"One-Sample T-test Results:\")\n",
    "print(\"T-statistic:\", t_statistic)\n",
    "print(\"P-value:\", p_value)\n",
    "\n",
    "# Interpret the results\n",
    "alpha = 0.05\n",
    "if p_value < alpha:\n",
    "    print(\"Reject the null hypothesis: the sample mean is significantly different from the population mean.\")\n",
    "else:\n",
    "    print(\"Fail to reject the null hypothesis: there is insufficient evidence to suggest that the sample mean differs from the population mean.\")"
   ]
  },
  {
   "cell_type": "code",
   "execution_count": 82,
   "id": "b72963ea",
   "metadata": {},
   "outputs": [
    {
     "data": {
      "text/html": [
       "<div>\n",
       "<style scoped>\n",
       "    .dataframe tbody tr th:only-of-type {\n",
       "        vertical-align: middle;\n",
       "    }\n",
       "\n",
       "    .dataframe tbody tr th {\n",
       "        vertical-align: top;\n",
       "    }\n",
       "\n",
       "    .dataframe thead th {\n",
       "        text-align: right;\n",
       "    }\n",
       "</style>\n",
       "<table border=\"1\" class=\"dataframe\">\n",
       "  <thead>\n",
       "    <tr style=\"text-align: right;\">\n",
       "      <th></th>\n",
       "      <th>AGE</th>\n",
       "      <th>GENDER</th>\n",
       "      <th>RACE</th>\n",
       "      <th>DRIVING_EXPERIENCE</th>\n",
       "      <th>EDUCATION</th>\n",
       "      <th>INCOME</th>\n",
       "      <th>CREDIT_SCORE</th>\n",
       "      <th>VEHICLE_OWNERSHIP</th>\n",
       "      <th>VEHICLE_YEAR</th>\n",
       "      <th>MARRIED</th>\n",
       "      <th>CHILDREN</th>\n",
       "      <th>POSTAL_CODE</th>\n",
       "      <th>ANNUAL_MILEAGE</th>\n",
       "      <th>VEHICLE_TYPE</th>\n",
       "      <th>SPEEDING_VIOLATIONS</th>\n",
       "      <th>DUIS</th>\n",
       "      <th>PAST_ACCIDENTS</th>\n",
       "      <th>OUTCOME</th>\n",
       "    </tr>\n",
       "  </thead>\n",
       "  <tbody>\n",
       "    <tr>\n",
       "      <th>0</th>\n",
       "      <td>0</td>\n",
       "      <td>1</td>\n",
       "      <td>1</td>\n",
       "      <td>3</td>\n",
       "      <td>high_school</td>\n",
       "      <td>upper_class</td>\n",
       "      <td>0.629027</td>\n",
       "      <td>1.0</td>\n",
       "      <td>after_2015</td>\n",
       "      <td>0.0</td>\n",
       "      <td>1.0</td>\n",
       "      <td>10238</td>\n",
       "      <td>12000.0</td>\n",
       "      <td>1</td>\n",
       "      <td>0</td>\n",
       "      <td>0</td>\n",
       "      <td>0</td>\n",
       "      <td>0.0</td>\n",
       "    </tr>\n",
       "    <tr>\n",
       "      <th>1</th>\n",
       "      <td>1</td>\n",
       "      <td>0</td>\n",
       "      <td>1</td>\n",
       "      <td>3</td>\n",
       "      <td>0</td>\n",
       "      <td>1</td>\n",
       "      <td>0.357757</td>\n",
       "      <td>0.0</td>\n",
       "      <td>before_2015</td>\n",
       "      <td>0.0</td>\n",
       "      <td>0.0</td>\n",
       "      <td>10238</td>\n",
       "      <td>16000.0</td>\n",
       "      <td>1</td>\n",
       "      <td>0</td>\n",
       "      <td>0</td>\n",
       "      <td>0</td>\n",
       "      <td>1.0</td>\n",
       "    </tr>\n",
       "    <tr>\n",
       "      <th>2</th>\n",
       "      <td>1</td>\n",
       "      <td>1</td>\n",
       "      <td>1</td>\n",
       "      <td>3</td>\n",
       "      <td>high_school</td>\n",
       "      <td>working_class</td>\n",
       "      <td>0.493146</td>\n",
       "      <td>1.0</td>\n",
       "      <td>before_2015</td>\n",
       "      <td>0.0</td>\n",
       "      <td>0.0</td>\n",
       "      <td>10238</td>\n",
       "      <td>11000.0</td>\n",
       "      <td>1</td>\n",
       "      <td>0</td>\n",
       "      <td>0</td>\n",
       "      <td>0</td>\n",
       "      <td>0.0</td>\n",
       "    </tr>\n",
       "    <tr>\n",
       "      <th>3</th>\n",
       "      <td>1</td>\n",
       "      <td>0</td>\n",
       "      <td>1</td>\n",
       "      <td>3</td>\n",
       "      <td>1</td>\n",
       "      <td>working_class</td>\n",
       "      <td>0.206013</td>\n",
       "      <td>1.0</td>\n",
       "      <td>before_2015</td>\n",
       "      <td>0.0</td>\n",
       "      <td>1.0</td>\n",
       "      <td>32765</td>\n",
       "      <td>11000.0</td>\n",
       "      <td>1</td>\n",
       "      <td>0</td>\n",
       "      <td>0</td>\n",
       "      <td>0</td>\n",
       "      <td>0.0</td>\n",
       "    </tr>\n",
       "    <tr>\n",
       "      <th>4</th>\n",
       "      <td>3</td>\n",
       "      <td>0</td>\n",
       "      <td>1</td>\n",
       "      <td>2</td>\n",
       "      <td>0</td>\n",
       "      <td>working_class</td>\n",
       "      <td>0.388366</td>\n",
       "      <td>1.0</td>\n",
       "      <td>before_2015</td>\n",
       "      <td>0.0</td>\n",
       "      <td>0.0</td>\n",
       "      <td>32765</td>\n",
       "      <td>12000.0</td>\n",
       "      <td>1</td>\n",
       "      <td>2</td>\n",
       "      <td>0</td>\n",
       "      <td>1</td>\n",
       "      <td>1.0</td>\n",
       "    </tr>\n",
       "    <tr>\n",
       "      <th>...</th>\n",
       "      <td>...</td>\n",
       "      <td>...</td>\n",
       "      <td>...</td>\n",
       "      <td>...</td>\n",
       "      <td>...</td>\n",
       "      <td>...</td>\n",
       "      <td>...</td>\n",
       "      <td>...</td>\n",
       "      <td>...</td>\n",
       "      <td>...</td>\n",
       "      <td>...</td>\n",
       "      <td>...</td>\n",
       "      <td>...</td>\n",
       "      <td>...</td>\n",
       "      <td>...</td>\n",
       "      <td>...</td>\n",
       "      <td>...</td>\n",
       "      <td>...</td>\n",
       "    </tr>\n",
       "    <tr>\n",
       "      <th>9995</th>\n",
       "      <td>3</td>\n",
       "      <td>1</td>\n",
       "      <td>1</td>\n",
       "      <td>2</td>\n",
       "      <td>1</td>\n",
       "      <td>upper_class</td>\n",
       "      <td>0.582787</td>\n",
       "      <td>1.0</td>\n",
       "      <td>before_2015</td>\n",
       "      <td>0.0</td>\n",
       "      <td>0.0</td>\n",
       "      <td>10238</td>\n",
       "      <td>16000.0</td>\n",
       "      <td>1</td>\n",
       "      <td>0</td>\n",
       "      <td>0</td>\n",
       "      <td>1</td>\n",
       "      <td>0.0</td>\n",
       "    </tr>\n",
       "    <tr>\n",
       "      <th>9996</th>\n",
       "      <td>3</td>\n",
       "      <td>1</td>\n",
       "      <td>1</td>\n",
       "      <td>2</td>\n",
       "      <td>0</td>\n",
       "      <td>middle_class</td>\n",
       "      <td>0.522231</td>\n",
       "      <td>1.0</td>\n",
       "      <td>after_2015</td>\n",
       "      <td>0.0</td>\n",
       "      <td>1.0</td>\n",
       "      <td>32765</td>\n",
       "      <td>12000.0</td>\n",
       "      <td>1</td>\n",
       "      <td>1</td>\n",
       "      <td>0</td>\n",
       "      <td>0</td>\n",
       "      <td>0.0</td>\n",
       "    </tr>\n",
       "    <tr>\n",
       "      <th>9997</th>\n",
       "      <td>3</td>\n",
       "      <td>0</td>\n",
       "      <td>1</td>\n",
       "      <td>3</td>\n",
       "      <td>high_school</td>\n",
       "      <td>middle_class</td>\n",
       "      <td>0.470940</td>\n",
       "      <td>1.0</td>\n",
       "      <td>before_2015</td>\n",
       "      <td>0.0</td>\n",
       "      <td>1.0</td>\n",
       "      <td>10238</td>\n",
       "      <td>14000.0</td>\n",
       "      <td>1</td>\n",
       "      <td>0</td>\n",
       "      <td>0</td>\n",
       "      <td>0</td>\n",
       "      <td>0.0</td>\n",
       "    </tr>\n",
       "    <tr>\n",
       "      <th>9998</th>\n",
       "      <td>3</td>\n",
       "      <td>1</td>\n",
       "      <td>1</td>\n",
       "      <td>2</td>\n",
       "      <td>high_school</td>\n",
       "      <td>1</td>\n",
       "      <td>0.364185</td>\n",
       "      <td>0.0</td>\n",
       "      <td>before_2015</td>\n",
       "      <td>0.0</td>\n",
       "      <td>1.0</td>\n",
       "      <td>10238</td>\n",
       "      <td>13000.0</td>\n",
       "      <td>1</td>\n",
       "      <td>2</td>\n",
       "      <td>0</td>\n",
       "      <td>1</td>\n",
       "      <td>1.0</td>\n",
       "    </tr>\n",
       "    <tr>\n",
       "      <th>9999</th>\n",
       "      <td>3</td>\n",
       "      <td>1</td>\n",
       "      <td>1</td>\n",
       "      <td>3</td>\n",
       "      <td>0</td>\n",
       "      <td>working_class</td>\n",
       "      <td>0.435225</td>\n",
       "      <td>1.0</td>\n",
       "      <td>before_2015</td>\n",
       "      <td>1.0</td>\n",
       "      <td>1.0</td>\n",
       "      <td>10238</td>\n",
       "      <td>13000.0</td>\n",
       "      <td>1</td>\n",
       "      <td>0</td>\n",
       "      <td>0</td>\n",
       "      <td>0</td>\n",
       "      <td>0.0</td>\n",
       "    </tr>\n",
       "  </tbody>\n",
       "</table>\n",
       "<p>10000 rows × 18 columns</p>\n",
       "</div>"
      ],
      "text/plain": [
       "      AGE  GENDER  RACE  DRIVING_EXPERIENCE    EDUCATION         INCOME  \\\n",
       "0       0       1     1                   3  high_school    upper_class   \n",
       "1       1       0     1                   3            0              1   \n",
       "2       1       1     1                   3  high_school  working_class   \n",
       "3       1       0     1                   3            1  working_class   \n",
       "4       3       0     1                   2            0  working_class   \n",
       "...   ...     ...   ...                 ...          ...            ...   \n",
       "9995    3       1     1                   2            1    upper_class   \n",
       "9996    3       1     1                   2            0   middle_class   \n",
       "9997    3       0     1                   3  high_school   middle_class   \n",
       "9998    3       1     1                   2  high_school              1   \n",
       "9999    3       1     1                   3            0  working_class   \n",
       "\n",
       "      CREDIT_SCORE  VEHICLE_OWNERSHIP VEHICLE_YEAR  MARRIED  CHILDREN  \\\n",
       "0         0.629027                1.0   after_2015      0.0       1.0   \n",
       "1         0.357757                0.0  before_2015      0.0       0.0   \n",
       "2         0.493146                1.0  before_2015      0.0       0.0   \n",
       "3         0.206013                1.0  before_2015      0.0       1.0   \n",
       "4         0.388366                1.0  before_2015      0.0       0.0   \n",
       "...            ...                ...          ...      ...       ...   \n",
       "9995      0.582787                1.0  before_2015      0.0       0.0   \n",
       "9996      0.522231                1.0   after_2015      0.0       1.0   \n",
       "9997      0.470940                1.0  before_2015      0.0       1.0   \n",
       "9998      0.364185                0.0  before_2015      0.0       1.0   \n",
       "9999      0.435225                1.0  before_2015      1.0       1.0   \n",
       "\n",
       "      POSTAL_CODE  ANNUAL_MILEAGE VEHICLE_TYPE  SPEEDING_VIOLATIONS  DUIS  \\\n",
       "0           10238         12000.0            1                    0     0   \n",
       "1           10238         16000.0            1                    0     0   \n",
       "2           10238         11000.0            1                    0     0   \n",
       "3           32765         11000.0            1                    0     0   \n",
       "4           32765         12000.0            1                    2     0   \n",
       "...           ...             ...          ...                  ...   ...   \n",
       "9995        10238         16000.0            1                    0     0   \n",
       "9996        32765         12000.0            1                    1     0   \n",
       "9997        10238         14000.0            1                    0     0   \n",
       "9998        10238         13000.0            1                    2     0   \n",
       "9999        10238         13000.0            1                    0     0   \n",
       "\n",
       "      PAST_ACCIDENTS  OUTCOME  \n",
       "0                  0      0.0  \n",
       "1                  0      1.0  \n",
       "2                  0      0.0  \n",
       "3                  0      0.0  \n",
       "4                  1      1.0  \n",
       "...              ...      ...  \n",
       "9995               1      0.0  \n",
       "9996               0      0.0  \n",
       "9997               0      0.0  \n",
       "9998               1      1.0  \n",
       "9999               0      0.0  \n",
       "\n",
       "[10000 rows x 18 columns]"
      ]
     },
     "execution_count": 82,
     "metadata": {},
     "output_type": "execute_result"
    }
   ],
   "source": [
    "df=data.copy()\n",
    "df"
   ]
  },
  {
   "cell_type": "code",
   "execution_count": 83,
   "id": "2572af86",
   "metadata": {},
   "outputs": [
    {
     "name": "stdout",
     "output_type": "stream",
     "text": [
      "One-Sample T-test Results:\n",
      "T-statistic: 0.0\n",
      "P-value: 1.0\n",
      "Fail to reject the null hypothesis: there is insufficient evidence to suggest that the sample mean differs from the population mean.\n"
     ]
    }
   ],
   "source": [
    "mu_0 = np.mean(df['CREDIT_SCORE'])\n",
    "\n",
    "# Perform one-sample t-test\n",
    "t_statistic, p_value = stats.ttest_1samp(df['CREDIT_SCORE'], mu_0)\n",
    "\n",
    "# Print the results\n",
    "print(\"One-Sample T-test Results:\")\n",
    "print(\"T-statistic:\", t_statistic)\n",
    "print(\"P-value:\", p_value)\n",
    "\n",
    "# Interpret the results\n",
    "alpha = 0.05\n",
    "if p_value < alpha:\n",
    "    print(\"Reject the null hypothesis: the sample mean is significantly different from the population mean.\")\n",
    "else:\n",
    "    print(\"Fail to reject the null hypothesis: there is insufficient evidence to suggest that the sample mean differs from the population mean.\")"
   ]
  },
  {
   "cell_type": "code",
   "execution_count": 84,
   "id": "36423661",
   "metadata": {},
   "outputs": [
    {
     "name": "stdout",
     "output_type": "stream",
     "text": [
      "One-Sample T-test Results:\n",
      "T-statistic: 0.0\n",
      "P-value: 1.0\n",
      "Fail to reject the null hypothesis: there is insufficient evidence to suggest that the sample mean differs from the population mean.\n"
     ]
    }
   ],
   "source": [
    "mu_0 = np.mean(df['ANNUAL_MILEAGE'])\n",
    "\n",
    "# Perform one-sample t-test\n",
    "t_statistic, p_value = stats.ttest_1samp(df['ANNUAL_MILEAGE'], mu_0)\n",
    "\n",
    "# Print the results\n",
    "print(\"One-Sample T-test Results:\")\n",
    "print(\"T-statistic:\", t_statistic)\n",
    "print(\"P-value:\", p_value)\n",
    "\n",
    "# Interpret the results\n",
    "alpha = 0.05\n",
    "if p_value < alpha:\n",
    "    print(\"Reject the null hypothesis: the sample mean is significantly different from the population mean.\")\n",
    "else:\n",
    "    print(\"Fail to reject the null hypothesis: there is insufficient evidence to suggest that the sample mean differs from the population mean.\")"
   ]
  },
  {
   "cell_type": "markdown",
   "id": "f83e36fd",
   "metadata": {},
   "source": [
    "# t-test for two sample"
   ]
  },
  {
   "cell_type": "markdown",
   "id": "b44770b8",
   "metadata": {},
   "source": [
    "When you want to compare the means of two independent groups to determine if they differ significantly.\n",
    "\n",
    "null_hypothesis: The population means of the two groups are equal\n",
    "\n",
    "alternate_hypothesis: The population means of the two groups are not equal"
   ]
  },
  {
   "cell_type": "code",
   "execution_count": 85,
   "id": "6dfd38d9",
   "metadata": {},
   "outputs": [
    {
     "name": "stdout",
     "output_type": "stream",
     "text": [
      "Two-Sample T-test Results:\n",
      "T-statistic: -437.24894006711753\n",
      "P-value: 0.0\n",
      "Reject the null hypothesis: the means of the two groups are significantly different.\n"
     ]
    }
   ],
   "source": [
    "# Perform two-sample t-test\n",
    "t_statistic, p_value = stats.ttest_ind(df['CREDIT_SCORE'], df['ANNUAL_MILEAGE'])\n",
    "\n",
    "# Print the results\n",
    "print(\"Two-Sample T-test Results:\")\n",
    "print(\"T-statistic:\", t_statistic)\n",
    "print(\"P-value:\", p_value)\n",
    "\n",
    "# Interpret the results\n",
    "alpha = 0.05\n",
    "if p_value < alpha:\n",
    "    print(\"Reject the null hypothesis: the means of the two groups are significantly different.\")\n",
    "else:\n",
    "    print(\"Fail to reject the null hypothesis: there is insufficient evidence to suggest that the means of the two groups differ.\")"
   ]
  },
  {
   "cell_type": "markdown",
   "id": "e3c4dec6",
   "metadata": {},
   "source": [
    "# chisquare test"
   ]
  },
  {
   "cell_type": "code",
   "execution_count": 86,
   "id": "21bceb26",
   "metadata": {},
   "outputs": [
    {
     "name": "stdout",
     "output_type": "stream",
     "text": [
      "GENDER     0     1\n",
      "AGE               \n",
      "0        995   995\n",
      "1        982  1034\n",
      "2       1465  1466\n",
      "3       1548  1515\n",
      "Chi-square statistic: 1.6571514407616568\n",
      "P-value: 0.6465016406899802\n"
     ]
    }
   ],
   "source": [
    "import pandas as pd\n",
    "from scipy.stats import chi2_contingency\n",
    "\n",
    "# Create a contingency table\n",
    "contingency_table = pd.crosstab(data['AGE'], data['GENDER'])\n",
    "print(contingency_table)\n",
    "\n",
    "# Perform the chi-square test of independence\n",
    "chi2, p, dof, expected = chi2_contingency(contingency_table)\n",
    "\n",
    "# Print the test statistics and p-value\n",
    "print('Chi-square statistic:', chi2)\n",
    "print('P-value:', p)"
   ]
  },
  {
   "cell_type": "markdown",
   "id": "f2fc1182",
   "metadata": {},
   "source": [
    "### Identify key factors that influence claim rates"
   ]
  },
  {
   "cell_type": "code",
   "execution_count": 87,
   "id": "cde3291a",
   "metadata": {},
   "outputs": [
    {
     "name": "stdout",
     "output_type": "stream",
     "text": [
      "Key Factors that Influence Claim Rates:\n",
      "DRIVING_EXPERIENCE     0.497431\n",
      "VEHICLE_OWNERSHIP      0.378921\n",
      "PAST_ACCIDENTS         0.311495\n",
      "CREDIT_SCORE           0.308998\n",
      "SPEEDING_VIOLATIONS    0.291862\n",
      "Name: OUTCOME, dtype: float64\n"
     ]
    }
   ],
   "source": [
    "import pandas as pd\n",
    "\n",
    "# Select the relevant columns for analysis\n",
    "features = ['AGE', 'GENDER', 'RACE', 'DRIVING_EXPERIENCE', 'EDUCATION', 'INCOME', 'CREDIT_SCORE', 'VEHICLE_OWNERSHIP', 'VEHICLE_YEAR', 'MARRIED', 'CHILDREN', 'POSTAL_CODE', 'ANNUAL_MILEAGE', 'VEHICLE_TYPE', 'SPEEDING_VIOLATIONS', 'DUIS', 'PAST_ACCIDENTS']\n",
    "\n",
    "# Calculate the correlation matrix\n",
    "correlation_matrix = data[features + ['OUTCOME']].corr()\n",
    "\n",
    "# Sort the correlation matrix by the 'OUTCOME' column\n",
    "sorted_correlations = correlation_matrix['OUTCOME'].abs().sort_values(ascending=False)\n",
    "\n",
    "# Print the key factors that influence claim rates\n",
    "key_factors = sorted_correlations[1:6]  # Select the top 5 factors excluding 'OUTCOME'\n",
    "\n",
    "print(\"Key Factors that Influence Claim Rates:\")\n",
    "print(key_factors)"
   ]
  },
  {
   "cell_type": "markdown",
   "id": "47456403",
   "metadata": {},
   "source": [
    "### Assess impact of driving history on claims"
   ]
  },
  {
   "cell_type": "code",
   "execution_count": 88,
   "id": "fe382dcb",
   "metadata": {},
   "outputs": [
    {
     "name": "stdout",
     "output_type": "stream",
     "text": [
      "Claim Rates by Driving History:\n",
      "SPEEDING_VIOLATIONS  DUIS  PAST_ACCIDENTS\n",
      "0                    0     0                 0.570654\n",
      "                           1                 0.167979\n",
      "                           2                 0.148387\n",
      "                           3                 0.184211\n",
      "                           4                 0.318182\n",
      "                                               ...   \n",
      "17                   2     2                 0.000000\n",
      "18                   0     9                 0.000000\n",
      "19                   0     2                 0.000000\n",
      "                     1     0                 0.000000\n",
      "22                   0     6                 0.000000\n",
      "Name: OUTCOME, Length: 397, dtype: float64\n"
     ]
    }
   ],
   "source": [
    "# Calculate claim rates for different levels of driving history\n",
    "claim_rates = data.groupby(['SPEEDING_VIOLATIONS', 'DUIS', 'PAST_ACCIDENTS']).mean()['OUTCOME']\n",
    "\n",
    "# Print the claim rates for each level of driving history\n",
    "print(\"Claim Rates by Driving History:\")\n",
    "print(claim_rates)"
   ]
  },
  {
   "cell_type": "code",
   "execution_count": 89,
   "id": "d726eb84",
   "metadata": {},
   "outputs": [],
   "source": [
    "#Interpretation: The output provides the claim rates for various combinations of driving history levels. It allows you to observe how different levels of speeding violations, DUIs, and past accidents impact the likelihood of making an insurance claim, as represented by the claim rates."
   ]
  },
  {
   "cell_type": "markdown",
   "id": "d9fae648",
   "metadata": {},
   "source": [
    "## Evaluate role of income, credit score in predicting claims"
   ]
  },
  {
   "cell_type": "code",
   "execution_count": 94,
   "id": "f4317322",
   "metadata": {},
   "outputs": [
    {
     "name": "stdout",
     "output_type": "stream",
     "text": [
      "Accuracy: 0.6915\n"
     ]
    }
   ],
   "source": [
    "import pandas as pd\n",
    "from sklearn.linear_model import LogisticRegression\n",
    "from sklearn.model_selection import train_test_split\n",
    "from sklearn.metrics import accuracy_score\n",
    "\n",
    "# Select the features (income and credit score) and the target variable (claim)\n",
    "X = data[['INCOME', 'CREDIT_SCORE']]\n",
    "y = data['OUTCOME']\n",
    "\n",
    "# Split the data into training and testing sets\n",
    "X_train, X_test, y_train, y_test = train_test_split(X, y, test_size=0.2, random_state=42)\n",
    "\n",
    "# Create and train the logistic regression model\n",
    "model = LogisticRegression()\n",
    "model.fit(X_train, y_train)\n",
    "\n",
    "# Make predictions on the testing set\n",
    "y_pred = model.predict(X_test)\n",
    "\n",
    "# Evaluate the accuracy of the model\n",
    "accuracy = accuracy_score(y_test, y_pred)\n",
    "print(\"Accuracy:\", accuracy)"
   ]
  },
  {
   "cell_type": "markdown",
   "id": "d1961b80",
   "metadata": {},
   "source": [
    "## Develop risk model to predict likelihood of claim"
   ]
  },
  {
   "cell_type": "code",
   "execution_count": 95,
   "id": "bf19a8e8",
   "metadata": {},
   "outputs": [
    {
     "name": "stdout",
     "output_type": "stream",
     "text": [
      "Classification Report:\n",
      "              precision    recall  f1-score   support\n",
      "\n",
      "         0.0       0.76      0.91      0.83      1367\n",
      "         1.0       0.66      0.39      0.49       633\n",
      "\n",
      "    accuracy                           0.74      2000\n",
      "   macro avg       0.71      0.65      0.66      2000\n",
      "weighted avg       0.73      0.74      0.72      2000\n",
      "\n",
      "Accuracy: 74.40%\n"
     ]
    }
   ],
   "source": [
    "import pandas as pd\n",
    "from sklearn.svm import SVC\n",
    "from sklearn.model_selection import train_test_split\n",
    "from sklearn.metrics import classification_report, accuracy_score\n",
    "\n",
    "# Select the features and target variable\n",
    "features = data[['INCOME', 'CREDIT_SCORE']]\n",
    "target = data['OUTCOME']\n",
    "\n",
    "# Split the data into training and testing sets\n",
    "X_train, X_test, y_train, y_test = train_test_split(features, target, test_size=0.2, random_state=42)\n",
    "\n",
    "# Create an SVM classifier\n",
    "model = SVC()\n",
    "\n",
    "# Train the model\n",
    "model.fit(X_train, y_train)\n",
    "\n",
    "# Make predictions on the testing set\n",
    "y_pred = model.predict(X_test)\n",
    "\n",
    "# Evaluate the model's performance\n",
    "print(\"Classification Report:\")\n",
    "print(classification_report(y_test, y_pred))\n",
    "\n",
    "# Calculate accuracy\n",
    "accuracy = accuracy_score(y_test, y_pred)\n",
    "print(\"Accuracy: {:.2f}%\".format(accuracy * 100))"
   ]
  },
  {
   "cell_type": "code",
   "execution_count": 116,
   "id": "fd096e1c",
   "metadata": {},
   "outputs": [
    {
     "name": "stdout",
     "output_type": "stream",
     "text": [
      "Classification Report:\n",
      "              precision    recall  f1-score   support\n",
      "\n",
      "         0.0       0.83      0.88      0.86      1367\n",
      "         1.0       0.71      0.62      0.66       633\n",
      "\n",
      "    accuracy                           0.80      2000\n",
      "   macro avg       0.77      0.75      0.76      2000\n",
      "weighted avg       0.79      0.80      0.80      2000\n",
      "\n",
      "Accuracy: 79.95%\n"
     ]
    }
   ],
   "source": [
    "import pandas as pd\n",
    "from sklearn.model_selection import train_test_split\n",
    "from sklearn.linear_model import LogisticRegression\n",
    "from sklearn.metrics import classification_report, accuracy_score\n",
    "\n",
    "# Select the features and target variable\n",
    "features = data.drop('OUTCOME', axis=1)\n",
    "target = data['OUTCOME']\n",
    "\n",
    "# Split the data into training and testing sets\n",
    "X_train, X_test, y_train, y_test = train_test_split(features, target, test_size=0.2, random_state=42)\n",
    "\n",
    "# Create a logistic regression model\n",
    "model = LogisticRegression()\n",
    "\n",
    "# Train the model\n",
    "model.fit(X_train, y_train)\n",
    "\n",
    "# Make predictions on the testing set\n",
    "y_pred = model.predict(X_test)\n",
    "\n",
    "# Evaluate the model's performance\n",
    "print(\"Classification Report:\")\n",
    "print(classification_report(y_test, y_pred))\n",
    "\n",
    "# Calculate accuracy\n",
    "accuracy = accuracy_score(y_test, y_pred)\n",
    "print(\"Accuracy: {:.2f}%\".format(accuracy * 100))"
   ]
  },
  {
   "cell_type": "code",
   "execution_count": 117,
   "id": "6c6e77eb",
   "metadata": {},
   "outputs": [
    {
     "name": "stdout",
     "output_type": "stream",
     "text": [
      "Classification Report:\n",
      "              precision    recall  f1-score   support\n",
      "\n",
      "         0.0       0.69      1.00      0.82      1367\n",
      "         1.0       1.00      0.03      0.06       633\n",
      "\n",
      "    accuracy                           0.69      2000\n",
      "   macro avg       0.85      0.52      0.44      2000\n",
      "weighted avg       0.79      0.69      0.58      2000\n",
      "\n",
      "Accuracy: 69.35%\n"
     ]
    }
   ],
   "source": [
    "import pandas as pd\n",
    "from sklearn.svm import SVC\n",
    "from sklearn.model_selection import train_test_split\n",
    "from sklearn.metrics import classification_report, accuracy_score\n",
    "\n",
    "# Select the features and target variable\n",
    "features = data.drop('OUTCOME', axis=1)\n",
    "target = data['OUTCOME']\n",
    "\n",
    "# Split the data into training and testing sets\n",
    "X_train, X_test, y_train, y_test = train_test_split(features, target, test_size=0.2, random_state=42)\n",
    "\n",
    "# Create an SVM classifier\n",
    "model = SVC()\n",
    "\n",
    "# Train the model\n",
    "model.fit(X_train, y_train)\n",
    "\n",
    "# Make predictions on the testing set\n",
    "y_pred = model.predict(X_test)\n",
    "\n",
    "# Evaluate the model's performance\n",
    "print(\"Classification Report:\")\n",
    "print(classification_report(y_test, y_pred))\n",
    "\n",
    "# Calculate accuracy\n",
    "accuracy = accuracy_score(y_test, y_pred)\n",
    "print(\"Accuracy: {:.2f}%\".format(accuracy * 100))"
   ]
  },
  {
   "cell_type": "code",
   "execution_count": null,
   "id": "05551232",
   "metadata": {},
   "outputs": [],
   "source": []
  }
 ],
 "metadata": {
  "kernelspec": {
   "display_name": "Python 3 (ipykernel)",
   "language": "python",
   "name": "python3"
  },
  "language_info": {
   "codemirror_mode": {
    "name": "ipython",
    "version": 3
   },
   "file_extension": ".py",
   "mimetype": "text/x-python",
   "name": "python",
   "nbconvert_exporter": "python",
   "pygments_lexer": "ipython3",
   "version": "3.11.3"
  }
 },
 "nbformat": 4,
 "nbformat_minor": 5
}
